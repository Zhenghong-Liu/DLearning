{
 "cells": [
  {
   "cell_type": "markdown",
   "metadata": {},
   "source": [
    "# 用markdown记录一下并行的公式推导"
   ]
  },
  {
   "cell_type": "markdown",
   "metadata": {},
   "source": [
    "# 实现miniGRU，使用李沐的框架来做文本预测"
   ]
  },
  {
   "cell_type": "code",
   "execution_count": 1,
   "metadata": {},
   "outputs": [],
   "source": [
    "from d2l import torch as d2l"
   ]
  },
  {
   "cell_type": "code",
   "execution_count": null,
   "metadata": {},
   "outputs": [],
   "source": []
  },
  {
   "cell_type": "code",
   "execution_count": 59,
   "metadata": {},
   "outputs": [
    {
     "name": "stdout",
     "output_type": "stream",
     "text": [
      "[0.54340494 0.27836939 0.42451759 0.84477613 0.00471886 0.12156912\n",
      " 0.67074908 0.82585276]\n",
      "[0.45659506 0.72163061 0.57548241 0.15522387 0.99528114 0.87843088\n",
      " 0.32925092 0.17414724]\n",
      "[0.13670659 0.57509333 0.89132195 0.20920212 0.18532822 0.10837689\n",
      " 0.21969749 0.97862378]\n",
      "[0.5308820946192279, 0.5431891488669744, 0.6909776486953454, 0.283985182706266, 0.28351963468489383, 0.2622276852584489, 0.23370059747630423, 0.8488974639927129]\n"
     ]
    }
   ],
   "source": [
    "# 实现ParallelScan算法，prefix scan algorithm(Blelloch)\n",
    "# vt = at * vt−1 + bt\n",
    "# ht = (1 - zt) * ht-1 + zt * h_tilde\n",
    "\n",
    "import numpy as np\n",
    "from functools import reduce\n",
    "np.random.seed(100)\n",
    "\n",
    "sequence_length = 8\n",
    "\n",
    "z = np.random.rand(sequence_length)\n",
    "print(z)\n",
    "print(1-z)\n",
    "\n",
    "h_tilde = np.random.rand(sequence_length)\n",
    "print(h_tilde)\n",
    "h0 = 1\n",
    "\n",
    "def parallel_scan(h0, z, b):\n",
    "    ans = []\n",
    "    h = h0\n",
    "    for i in range(sequence_length):\n",
    "        h = (1 - z[i]) * h + b[i]\n",
    "        ans.append(h)\n",
    "    return ans\n",
    "\n",
    "h = parallel_scan(h0, z, z * h_tilde)\n",
    "print(h)\n"
   ]
  },
  {
   "cell_type": "code",
   "execution_count": 60,
   "metadata": {},
   "outputs": [
    {
     "data": {
      "text/plain": [
       "tensor([0.5309, 0.5432, 0.6910, 0.2840, 0.2835, 0.2622, 0.2337, 0.8489],\n",
       "       dtype=torch.float64)"
      ]
     },
     "execution_count": 60,
     "metadata": {},
     "output_type": "execute_result"
    }
   ],
   "source": [
    "import torch\n",
    "from torch.nn import functional as F\n",
    "\n",
    "def parallel_scan_log(log_coeffs, log_values):\n",
    "    a_star = F.pad( torch.cumsum(log_coeffs, dim=0), (1, 0)) # a_star[0] = 0 也就是log(1)\n",
    "    log_h0_plus_b_star = torch.logcumsumexp(log_values - a_star, dim=0)\n",
    "    h = log_h0_plus_b_star + a_star\n",
    "    return h\n",
    "\n",
    "z = torch.tensor(z)\n",
    "h_tilde = torch.tensor(h_tilde)\n",
    "h0 = torch.tensor(0.0)\n",
    "\n",
    "log_coeffs = torch.log(1- z)\n",
    "log_values = torch.log(z) + torch.log(h_tilde)\n",
    "\n",
    "h = parallel_scan_log(log_coeffs, torch.cat([h0.view(1), log_values], dim=0))\n",
    "torch.exp(h)[1:]\n",
    "\n",
    "\n"
   ]
  },
  {
   "cell_type": "code",
   "execution_count": 56,
   "metadata": {},
   "outputs": [
    {
     "data": {
      "text/plain": [
       "array([0, 1, 2, 3, 4])"
      ]
     },
     "execution_count": 56,
     "metadata": {},
     "output_type": "execute_result"
    }
   ],
   "source": [
    "a = np.array([1, 2, 3, 4])\n",
    "# 只在上面一行做填充\n",
    "np.pad(a, ((1, 0)), mode='constant')\n",
    "\n",
    "# import torch\n",
    "\n",
    "# a = torch.tensor([1, 2, 3, 4])\n",
    "# a = a.reshape(2, 2)\n",
    "# # 只在上面一行做填充\n",
    "# torch.nn.functional.pad(a, (0, 0, 1, 0), mode='constant')"
   ]
  },
  {
   "cell_type": "code",
   "execution_count": null,
   "metadata": {},
   "outputs": [],
   "source": []
  },
  {
   "cell_type": "code",
   "execution_count": null,
   "metadata": {},
   "outputs": [],
   "source": []
  },
  {
   "cell_type": "code",
   "execution_count": null,
   "metadata": {},
   "outputs": [],
   "source": []
  },
  {
   "cell_type": "code",
   "execution_count": null,
   "metadata": {},
   "outputs": [],
   "source": []
  },
  {
   "cell_type": "code",
   "execution_count": null,
   "metadata": {},
   "outputs": [],
   "source": []
  },
  {
   "cell_type": "code",
   "execution_count": null,
   "metadata": {},
   "outputs": [],
   "source": []
  },
  {
   "cell_type": "code",
   "execution_count": null,
   "metadata": {},
   "outputs": [],
   "source": []
  },
  {
   "cell_type": "code",
   "execution_count": null,
   "metadata": {},
   "outputs": [],
   "source": []
  },
  {
   "cell_type": "code",
   "execution_count": null,
   "metadata": {},
   "outputs": [],
   "source": []
  },
  {
   "cell_type": "code",
   "execution_count": null,
   "metadata": {},
   "outputs": [],
   "source": []
  }
 ],
 "metadata": {
  "kernelspec": {
   "display_name": "pythonTry",
   "language": "python",
   "name": "python3"
  },
  "language_info": {
   "codemirror_mode": {
    "name": "ipython",
    "version": 3
   },
   "file_extension": ".py",
   "mimetype": "text/x-python",
   "name": "python",
   "nbconvert_exporter": "python",
   "pygments_lexer": "ipython3",
   "version": "3.11.9"
  }
 },
 "nbformat": 4,
 "nbformat_minor": 2
}
