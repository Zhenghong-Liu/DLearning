{
 "cells": [
  {
   "cell_type": "markdown",
   "metadata": {},
   "source": [
    "# 最小二乘法\n",
    "\n",
    "考虑有一组m个数据点(x1, y1), (x2, y2),……, (xm, ym)\n",
    "\n",
    "模型函数表示为： \n",
    "$$ y(x) = f(x, \\beta)\\ \\ \\ \\ \\ \\ \\ \\ \\ \\ \\ \\ \\ \\ \\ \\ \\ \\ \\ \\ (1)$$\n",
    "\n",
    "其中 $\\beta = [\\beta_1, \\beta_2, \\dots, \\beta_n]^T$ 表示待拟合参数，n表示待拟合参数的数量，其中m > n\n",
    "\n",
    "模型`残差`定义为： \n",
    "$$r_i = y_i - f(x_i, \\beta)\\ \\ \\ \\ for\\ i = 1, 2, \\dots, m\\ \\ \\ \\ \\ \\ \\ \\ \\ \\ \\ \\ (2)$$\n",
    "\n",
    "最小二乘法的目标就是通过最小化残差平方和RSS来估计 $\\beta$\n",
    "\n",
    "$$RSS(\\beta) = \\| r \\|^2 = r^Tr = \\sum_{i=1}^n r_i^2$$\n",
    "\n",
    "## 推导线性最小二乘法公式\n",
    "\n",
    "在线性最小二乘法中，拟合的数学表达式：\n",
    "$$y = \\sum_{j=1}^n f_j(x)\\beta_j = X\\beta$$\n",
    "其中 $\\beta$ 是一个n个元素的列向量，X是一个m行n列的矩阵，m是数据点个数，n是拟合参数的个数。\n",
    "\n",
    "矩阵求导公式, 下面要用到：\n",
    "\n",
    "公式1: $$\\frac{dAX}{dX} = A^T$$\n",
    "\n",
    "公式2: $$\\frac{dX^TA}{dX} = A$$\n",
    "\n",
    "公式3: $$\\frac{dX^TAX}{dX} = (A + A^T)X$$\n",
    "\n",
    "最小二乘法要求对 $\\beta$ 求解，使得RSS最小，即：$$ \\frac{\\partial RSS(\\beta)}{\\partial \\beta} = 0$$\n",
    "\n",
    "即：\n",
    "$$\n",
    "\\begin{align}\n",
    "\\frac{\\partial r^Tr}{\\partial \\beta}\n",
    "     = \\frac{\\partial ((y - f(x, \\beta))^T(y - f(x,\\beta)))}{\\partial \\beta} \\\\[4mm]\n",
    "     = \\frac{\\partial ((y - X\\beta)^T(y - X\\beta))}{\\partial \\beta} \\\\[4mm]\n",
    "     = \\frac{\\partial ((y^T -\\beta^TX^T)(y - X\\beta))}{\\partial \\beta}\\\\[4mm]\n",
    "     = \\frac{\\partial(y^Ty - y^TX\\beta-\\beta^TX^Ty+\\beta^TX^TX\\beta)}{\\partial \\beta}\\\\[4mm]\n",
    "     = \\frac{\\partial y^Ty}{\\partial \\beta} - \\frac{\\partial y^TX\\beta}{\\partial \\beta}\n",
    "     - \\frac{\\partial \\beta^TX^Ty}{\\partial \\beta} + \\frac{\\partial \\beta^TX^TX\\beta}{\\partial \\beta}\n",
    "     = 0\n",
    "\\end{align}     \n",
    "$$\n",
    "\n",
    "根据矩阵的求导公式，即可得到：\n",
    "$$\n",
    "-X^Ty -X^Ty + (X^TX + (X^TX)^T)\\beta = 0\n",
    "$$\n",
    "简化可得： $$X^TX\\beta = X^Ty$$\n",
    "因此 $$\\beta = (X^TX)^{-1}X^Ty$$\n",
    "\n",
    "方法2====================================================================================================================\n",
    "$$\n",
    "\\frac{\\partial r^Tr}{\\partial \\beta}\n",
    "     = \\frac{\\partial \\| y - X\\beta \\|^2}{\\partial \\beta} \\\\[4mm]\n",
    "     = \\frac{\\partial (y^Ty - 2y^TX\\beta + \\beta^TX^TX\\beta)}{\\partial \\beta} \\\\[4mm]\n",
    "     = 0 - 2X^Ty + (X^TX + (X^TX)^T)\\beta = 0\n",
    "$$\n",
    "简化可得： $$X^TX\\beta = X^Ty$$\n",
    "因此 $$\\beta = (X^TX)^{-1}X^Ty$$\n",
    "\n",
    "至此，线性最小二乘法的公式推导完毕。"
   ]
  },
  {
   "cell_type": "markdown",
   "metadata": {},
   "source": [
    "## 非线性最小二乘法\n",
    "对于线性最小二乘法我们可以分析他的导函数形式，但是对于复杂的情况，导函数不好写或者根本写不出来，这时需要采用迭代的方式求取。\n",
    "\n",
    "**迭代方式**\n",
    "\n",
    "1. 给定初始值$X_0$\n",
    "2. 对于第k次迭代，寻找一个合适的增量 $\\Delta X_k$, 使得 $\\| f(X_k + \\Delta X_k) \\|^2$最小\n",
    "3. 若$\\Delta X_k$足够小，则停止\n",
    "4. 否则， 令 $X_{k+1} = X_k + \\Delta X_k$, 返回2\n",
    "\n",
    "**如何寻找增量**\n",
    "\n",
    "泰勒展开：\n",
    "$$\\| f(\\beta_k + \\Delta \\beta) \\|^2 \\approx \\| f(\\beta_k)\\|^2 + J(\\beta_k)\\Delta \\beta + \\frac{1}{2}\\Delta \\beta^TH(\\beta_k)\\Delta \\beta$$\n",
    "\n",
    "其中H是m行m列的Hessian矩阵，存在关系有 $H = J^TJ$ ,其中J是雅可比矩阵\n",
    "\n",
    "### 梯度下降法： 保留一阶\n",
    "\n",
    "即 $$\\| f(\\beta_k + \\Delta \\beta) \\|^2 \\approx \\| f(\\beta_k)\\|^2 + J(\\beta_k)\\Delta \\beta$$\n",
    "\n",
    "$J_F(x)$ 即为F(x)的梯度，沿着引力势梯度相反的方向高度下降的最快。\n",
    "\n",
    "从某个初值 $\\beta_0$出发， 每次都取 $\\Delta \\beta = -\\alpha J^T(\\beta)$ ，$\\alpha$ 是一个控制步长大小的系数。\n",
    "\n",
    "\n",
    "### 牛顿迭代法： 保留二阶。\n",
    "$$\\| f(\\beta_k + \\Delta \\beta) \\|^2 \\approx \\| f(\\beta_k)\\|^2 + J(\\beta_k)\\Delta \\beta + \\frac{1}{2}\\Delta \\beta^TH(\\beta_k)\\Delta \\beta$$\n",
    "\n",
    "将上式对 $\\Delta \\beta$ 求偏导，令其为0，则有关于 $\\Delta \\beta$的方程\n",
    "$$J(\\beta_k) + \\frac{1}{2}[H(\\beta_k + H(\\beta_k)^T)]\\Delta \\beta = 0$$\n",
    "\n",
    "hessian矩阵为对称矩阵， $H^T = H$， 因此\n",
    "$$ J(\\beta_k) + H(\\beta_k)\\Delta \\beta = 0$$\n",
    "即\n",
    "$$\\Delta \\beta = -H^{-1}J$$\n",
    "\n",
    "\n",
    "### 高斯-牛顿法\n",
    "\n",
    "把$r_i$作泰勒展开：\n",
    "$$r_i(\\beta + \\Delta \\beta) \\approx r_i(\\beta) + J_i(\\beta)\\Delta \\beta$$\n",
    "则：\n",
    "$$r(\\beta + \\Delta \\beta)  = r(\\beta) + J_r(\\beta)\\Delta \\beta$$\n",
    "\n",
    "因此：\n",
    "$$\n",
    "\\frac{\\partial \\| r(\\beta) + J(\\beta)\\Delta \\beta \\|^2}{\\partial \\Delta \\beta} \\\\[4mm]\n",
    "= \\frac{\\partial (\\|f(\\beta)\\|^2 + 2r(\\beta)^TJ(\\beta)\\Delta \\beta + \\Delta \\beta^TJ(\\beta)^TJ(\\beta)\\Delta \\beta)}{\\partial \\Delta \\beta} \\\\[4mm]\n",
    "= 2J(\\beta)^Tr(\\beta) + 2J(\\beta)^TJ(\\beta)\\Delta \\beta = 0\n",
    "$$\n",
    "\n",
    "因此：\n",
    "$$\n",
    "J(\\beta)^TJ(\\beta)\\Delta \\beta = -J(\\beta)^Tr(\\beta)\n",
    "$$\n",
    "\n",
    "从而：\n",
    "$$\n",
    "\\Delta \\beta = -(J^TJ)^{-1}J^Tr\n",
    "$$"
   ]
  },
  {
   "cell_type": "markdown",
   "metadata": {},
   "source": [
    "## 拟合参数的协方差矩阵的计算\n",
    "\n",
    "$\\Delta \\beta$的协方差矩阵可以写为：\n",
    "$$\n",
    "\\text{Cov}(\\boldsymbol{\\Delta \\beta}) = \\mathbb{E}[\\Delta \\boldsymbol{\\beta} \\Delta \\boldsymbol{\\beta}^\\top] \\\\[4mm]\n",
    "= (J^TJ)^{-1}J^Trr^TJ[(J^TJ)^{-1}]^T\n",
    "$$\n",
    "\n",
    "由于hessian矩阵是对称矩阵，则它的逆也是对称矩阵，因此：\n",
    "$$[(J^TJ)^{-1}]^T = (J^TJ)^{-1}$$\n",
    "\n",
    "又由于$rr^T = \\sigma^2I$, \n",
    "\n",
    "这个公式的存在其实是因为那个高斯噪声$\\epsilon_i$的分布，那个的分布就是残差的期望分布，每个变量相互独立，协方差为0，只有对角线上元素为$\\sigma^2$\n",
    "\n",
    "将上面的两个公式带入，化简可得：\n",
    "\n",
    "$$\n",
    "\\text{Cov}(\\boldsymbol{\\Delta \\beta}) =  \\sigma^2(J^TJ)^{-1}J^TJ(J^TJ)^{-1}\n",
    "$$\n",
    "\n",
    "由于$(J^TJ)^{-1}J^TJ$等于单位矩阵，则：\n",
    "$$\n",
    "\\text{Cov}(\\boldsymbol{\\Delta \\beta}) =  \\sigma^2(J^TJ)^{-1}\n",
    "$$\n",
    "\n",
    "在统计学意义上，$\\beta$参数不确定性来源于 $\\Delta \\beta$\n",
    "则：\n",
    "$$\\text{Cov}(\\boldsymbol{\\beta}) = \\text{Cov}(\\boldsymbol{\\Delta \\beta}) =  \\sigma^2(J^TJ)^{-1}$$"
   ]
  },
  {
   "cell_type": "markdown",
   "metadata": {},
   "source": [
    "参考：\n",
    "\n",
    "【1】https://www.bilibili.com/video/BV1xh4y1Z7ku/?spm_id_from=333.1007.top_right_bar_window_custom_collection.content.click&vd_source=099edd8ba094e7ddc14190b99d15a5fe\n",
    "\n",
    "【2】https://www.bilibili.com/video/BV1134y1k7gv/?spm_id_from=333.788.top_right_bar_window_custom_collection.content.click&vd_source=099edd8ba094e7ddc14190b99d15a5fe\n",
    "\n",
    "【3】https://blog.csdn.net/wangqy3811457/article/details/123186754\n",
    "\n",
    "【4】https://en.wikipedia.org/wiki/Non-linear_least_squares\n",
    "\n",
    "【5】https://en.wikipedia.org/wiki/Linear_least_squares\n",
    "\n",
    "有博主推荐的一篇论文，我还没看：\n",
    "\n",
    "推荐一篇超级好的论文：http://www2.imm.dtu.dk/pubdb/edoc/imm3215.pdf"
   ]
  },
  {
   "cell_type": "markdown",
   "metadata": {},
   "source": []
  },
  {
   "cell_type": "markdown",
   "metadata": {},
   "source": [
    "### 个人的思考总结\n",
    "对于鸡兔同笼问题，如果系数矩阵A是满秩矩阵（行满秩且列满秩）则，A是一个方阵，如果行列式det(A) 不等于0， 此时可以直接用A的逆来解题。\n",
    "\n",
    "所以如果鸡兔同笼问题，我的数据里面存在线性相关的数据，会存在两个问题：\n",
    "1. 数据不是一个方阵，不是方阵无法求逆\n",
    "2. 由于行不满秩，所以它的行列式为零，即便是方阵也无法求逆\n",
    "\n",
    "在**鸡兔同笼问题**中，如果数据存在线性相关的行，理论上，你可以通过删除那些线性相关的行（或者保留其中一些线性无关的向量），然后求解简化后的方程。构造出一个满秩矩阵（行满秩且列满秩），进而可以通过求逆来得到解。\n",
    "\n",
    "然而，使用**伪逆**的方式，你不需要手动简化矩阵，也不必单独去寻找哪些行是线性无关的。伪逆自动处理了这些问题，通过最小二乘法为你找到一个“最优解”。伪逆不仅可以在矩阵是奇异的（即无法求逆）时提供解，还能够处理矩阵列或行之间存在线性相关性的问题。因此，伪逆的应用避免了繁琐的矩阵简化步骤，也能够更为简便和鲁棒地解决问题。\n",
    "\n",
    "举个例子，如果你使用伪逆，计算方式可以是：\n",
    "\n",
    "$ \\mathbf{X}^\\dagger = (\\mathbf{X}^T \\mathbf{X})^{-1} \\mathbf{X}^T $\n",
    "\n",
    "其中，$\\mathbf{X}^+$是伪逆矩阵，$\\mathbf{X}$是你的设计矩阵，公式计算的是最小二乘解。即便矩阵的秩不满或数据存在线性相关性，伪逆也能给出一个合理的解。\n",
    "\n",
    "总结来说，伪逆方法比起手动删除线性相关的行，提供了一个更简洁和方便的解决方案，尤其在处理复杂或不完美的数据时，它更为高效。\n"
   ]
  },
  {
   "cell_type": "markdown",
   "metadata": {},
   "source": [
    "## 尝试实现线性最小二乘法"
   ]
  },
  {
   "cell_type": "code",
   "execution_count": 409,
   "metadata": {},
   "outputs": [
    {
     "data": {
      "text/plain": [
       "[<matplotlib.lines.Line2D at 0x1775c4550>]"
      ]
     },
     "execution_count": 409,
     "metadata": {},
     "output_type": "execute_result"
    },
    {
     "data": {
      "image/png": "[encoded data removed]",
      "text/plain": [
       "<Figure size 640x480 with 1 Axes>"
      ]
     },
     "metadata": {},
     "output_type": "display_data"
    }
   ],
   "source": [
    "import numpy as np\n",
    "import matplotlib.pyplot as plt\n",
    "\n",
    "def myfunc(x, c):\n",
    "    res = np.zeros_like(x)\n",
    "    for i in range(len(c)):\n",
    "        res += c[i]*x**i\n",
    "\n",
    "    return res\n",
    "\n",
    "n = 30\n",
    "c = [20, 6, 5, -5, 1, -0.0555]\n",
    "er = 0.1\n",
    "x = np.random.rand(n)*5 + 0.5\n",
    "y0 = myfunc(x, c)\n",
    "\n",
    "ey = np.max(y0) * er * np.random.randn(n)\n",
    "y = y0 + ey\n",
    "plt.plot(x, y, \".\")"
   ]
  },
  {
   "cell_type": "code",
   "execution_count": 410,
   "metadata": {},
   "outputs": [],
   "source": [
    "# 定义残差函数\n",
    "def residuals(params, x, y, my_func):\n",
    "    return y - my_func(x, params)\n",
    "\n",
    "# 定义雅可比矩阵计算的数值方法\n",
    "def numerical_jacobian(params, x, y, my_func, epsilon=1e-6):\n",
    "    num_params = len(params)\n",
    "    num_data = len(x)\n",
    "    J = np.zeros((num_data, num_params))\n",
    "    for i in range(num_params):\n",
    "        params_step_up = params.copy()\n",
    "        params_step_down = params.copy()\n",
    "        params_step_up[i] += epsilon\n",
    "        params_step_down[i] -= epsilon\n",
    "        J[:, i] = (residuals(params_step_up, x, y, my_func) - residuals(params_step_down, x, y, my_func)) / (2 * epsilon)\n",
    "    return J"
   ]
  },
  {
   "cell_type": "code",
   "execution_count": 411,
   "metadata": {},
   "outputs": [
    {
     "data": {
      "text/plain": [
       "array([ 2.96213343e+00,  4.18448764e+01, -2.06829328e+01,  3.59901298e+00,\n",
       "       -4.03091271e-01,  3.44426444e-02])"
      ]
     },
     "execution_count": 411,
     "metadata": {},
     "output_type": "execute_result"
    }
   ],
   "source": [
    "x = np.array(x)\n",
    "y = np.array(y)\n",
    "x_matrix = [pow(x, i) for i in range(6)]\n",
    "x_matrix = np.array(x_matrix).T\n",
    "\n",
    "params = np.linalg.inv(x_matrix.T @ x_matrix) @ x_matrix.T @ y\n",
    "params"
   ]
  },
  {
   "cell_type": "code",
   "execution_count": 412,
   "metadata": {},
   "outputs": [
    {
     "data": {
      "text/plain": [
       "6.872898930870005"
      ]
     },
     "execution_count": 412,
     "metadata": {},
     "output_type": "execute_result"
    }
   ],
   "source": [
    "# 计算残差，并计算残差的方差。\n",
    "r = residuals(params, x, y, myfunc)\n",
    "r.var()"
   ]
  },
  {
   "cell_type": "code",
   "execution_count": 413,
   "metadata": {},
   "outputs": [
    {
     "data": {
      "text/plain": [
       "array([[ 1.42323602e+03, -2.85493210e+03,  2.09610397e+03,\n",
       "        -7.12410160e+02,  1.13424931e+02, -6.83855466e+00],\n",
       "       [-2.85493210e+03,  5.79560439e+03, -4.30056492e+03,\n",
       "         1.47465867e+03, -2.36493750e+02,  1.43434723e+01],\n",
       "       [ 2.09610397e+03, -4.30056492e+03,  3.22377172e+03,\n",
       "        -1.11524343e+03,  1.80186948e+02, -1.09963515e+01],\n",
       "       [-7.12410160e+02,  1.47465867e+03, -1.11524343e+03,\n",
       "         3.88901120e+02, -6.32680461e+01,  3.88383696e+00],\n",
       "       [ 1.13424931e+02, -2.36493750e+02,  1.80186948e+02,\n",
       "        -6.32680461e+01,  1.03556036e+01, -6.39081678e-01],\n",
       "       [-6.83855466e+00,  1.43434723e+01, -1.09963515e+01,\n",
       "         3.88383696e+00, -6.39081678e-01,  3.96264220e-02]])"
      ]
     },
     "execution_count": 413,
     "metadata": {},
     "output_type": "execute_result"
    }
   ],
   "source": [
    "J = numerical_jacobian(params, x, y, myfunc)\n",
    "inv_H = np.linalg.inv(J.T @ J)\n",
    "inv_H * r.var()"
   ]
  },
  {
   "cell_type": "markdown",
   "metadata": {},
   "source": [
    "对于线性最小二乘法，它的雅可比矩阵就是系数矩阵"
   ]
  },
  {
   "cell_type": "code",
   "execution_count": 414,
   "metadata": {},
   "outputs": [
    {
     "data": {
      "text/plain": [
       "array([[ 1.42323683e+03, -2.85493378e+03,  2.09610525e+03,\n",
       "        -7.12410608e+02,  1.13425004e+02, -6.83855913e+00],\n",
       "       [-2.85493378e+03,  5.79560786e+03, -4.30056757e+03,\n",
       "         1.47465959e+03, -2.36493901e+02,  1.43434815e+01],\n",
       "       [ 2.09610525e+03, -4.30056757e+03,  3.22377374e+03,\n",
       "        -1.11524414e+03,  1.80187063e+02, -1.09963586e+01],\n",
       "       [-7.12410608e+02,  1.47465959e+03, -1.11524414e+03,\n",
       "         3.88901367e+02, -6.32680864e+01,  3.88383944e+00],\n",
       "       [ 1.13425004e+02, -2.36493901e+02,  1.80187063e+02,\n",
       "        -6.32680864e+01,  1.03556101e+01, -6.39082080e-01],\n",
       "       [-6.83855913e+00,  1.43434815e+01, -1.09963586e+01,\n",
       "         3.88383944e+00, -6.39082080e-01,  3.96264467e-02]])"
      ]
     },
     "execution_count": 414,
     "metadata": {},
     "output_type": "execute_result"
    }
   ],
   "source": [
    "# 可以发现和用那个数值的雅可比矩阵计算的结果一致。\n",
    "np.linalg.inv(x_matrix.T @ x_matrix) * r.var()"
   ]
  },
  {
   "cell_type": "code",
   "execution_count": 415,
   "metadata": {},
   "outputs": [],
   "source": [
    "def draw(x, y, params, my_func):\n",
    "\n",
    "    # definitions for the axes\n",
    "    left, width = 0.1, 0.85\n",
    "    bottom, height = 0.1, 0.20\n",
    "    spacing = 0.008\n",
    "\n",
    "    rect_plot = [left, bottom + height + spacing, width, 0.65]\n",
    "    rect_resd = [left, bottom, width, height]\n",
    "\n",
    "    # start with a square Figure\n",
    "    fig = plt.figure()\n",
    "    ax = fig.add_axes(rect_plot)\n",
    "    ax_resd = fig.add_axes(rect_resd, sharex=ax)\n",
    "\n",
    "    xf = np.linspace(0, np.max(x), 100)\n",
    "    yf = my_func(xf, params)\n",
    "\n",
    "    ax.plot(x, y, \".\")\n",
    "    ax.plot(xf, yf)\n",
    "    ax.grid(True)\n",
    "    ax.set_ylabel(\"y\")\n",
    "\n",
    "    r = residuals(params, x, y, my_func)\n",
    "    r_std = np.std(r, ddof=1)\n",
    "    res = r / r_std # 归一化\n",
    "\n",
    "    ax_resd.plot(x, res, \".\")\n",
    "    ax_resd.axhline(0, ls=\":\")\n",
    "    ax_resd.axhline(1, ls=\":\")\n",
    "    ax_resd.axhline(-1, ls=\":\")\n",
    "    ax_resd.grid(True)\n",
    "    ax_resd.set_ylabel('Residuals')\n",
    "    ax_resd.set_xlabel('x')\n",
    "    plt.show()"
   ]
  },
  {
   "cell_type": "code",
   "execution_count": 416,
   "metadata": {},
   "outputs": [
    {
     "data": {
      "image/png": "[encoded data removed]",
      "text/plain": [
       "<Figure size 640x480 with 2 Axes>"
      ]
     },
     "metadata": {},
     "output_type": "display_data"
    }
   ],
   "source": [
    "draw(x, y, params=params, my_func=myfunc)"
   ]
  },
  {
   "cell_type": "markdown",
   "metadata": {},
   "source": [
    "对比调包计算的结果，结果一致，可惜调包的方法无法给出协方差矩阵。"
   ]
  },
  {
   "cell_type": "code",
   "execution_count": 417,
   "metadata": {},
   "outputs": [
    {
     "name": "stdout",
     "output_type": "stream",
     "text": [
      "[ 2.96213341e+00  4.18448765e+01 -2.06829328e+01  3.59901299e+00\n",
      " -4.03091273e-01  3.44426445e-02]\n"
     ]
    }
   ],
   "source": [
    "import scipy.linalg as splin\n",
    "\n",
    "cf, resid, rank, sigma = splin.lstsq(x_matrix, y)\n",
    "print(cf)"
   ]
  },
  {
   "cell_type": "markdown",
   "metadata": {},
   "source": [
    "## 尝试实现非线性最小二乘法\n",
    "\n",
    "这种方法通常需要使用迭代法，这里我们使用高斯-牛顿法"
   ]
  },
  {
   "cell_type": "code",
   "execution_count": 418,
   "metadata": {},
   "outputs": [
    {
     "data": {
      "text/plain": [
       "[<matplotlib.lines.Line2D at 0x177307090>]"
      ]
     },
     "execution_count": 418,
     "metadata": {},
     "output_type": "execute_result"
    },
    {
     "data": {
      "image/png": "[encoded data removed]",
      "text/plain": [
       "<Figure size 640x480 with 1 Axes>"
      ]
     },
     "metadata": {},
     "output_type": "display_data"
    }
   ],
   "source": [
    "# def my_gauss_func(x, p):\n",
    "#     t1 = p[1] * np.exp(-(x-p[2])**2/ (2 * p[3]**2))\n",
    "#     y = p[0] + t1\n",
    "#     return y\n",
    "\n",
    "def my_gauss_func(x, params):\n",
    "    # 定义模型函数\n",
    "    return params[0] * np.exp(-((x - params[1]) / params[2]) ** 2)\n",
    "\n",
    "n = 30\n",
    "er =0.03\n",
    "p = [5, 20, 10]\n",
    "x = np.arange(n)\n",
    "y0 = my_gauss_func(x, p)\n",
    "ey = np.max(y0) * er * np.random.randn(n)\n",
    "y = y0 + ey\n",
    "plt.plot(x, y, \".\")\n"
   ]
  },
  {
   "cell_type": "markdown",
   "metadata": {},
   "source": [
    "### 高斯-牛顿法"
   ]
  },
  {
   "cell_type": "code",
   "execution_count": 419,
   "metadata": {},
   "outputs": [
    {
     "name": "stdout",
     "output_type": "stream",
     "text": [
      "迭代次数： 11\n",
      "参数估计值： [ 5.11458268 19.96337914  9.72297881]\n"
     ]
    }
   ],
   "source": [
    "threshold = 1e-6\n",
    "lambda_reg = 1e-3  # 正则化参数\n",
    "beta_0 = [5, 35, 13]\n",
    "beta = np.array(beta_0, dtype=np.float64)\n",
    "iter_cnt = 0\n",
    "\n",
    "while True:\n",
    "    J = numerical_jacobian(beta, x, y, my_gauss_func)\n",
    "    r = residuals(beta, x, y, my_gauss_func)\n",
    "    \n",
    "    # 显式求解正则化方程\n",
    "    JTJ = J.T @ J + lambda_reg * np.eye(J.shape[1]) # 借用Levenberg思想，引入正则项，保证可以正常求逆\n",
    "    JTr = J.T @ r\n",
    "    delta_beta = np.linalg.solve(JTJ, JTr) #解一个线性矩阵方程\n",
    "    \n",
    "    beta -= delta_beta  # 直接更新\n",
    "    iter_cnt += 1\n",
    "\n",
    "    # 终止条件\n",
    "    if np.linalg.norm(delta_beta) < threshold or np.linalg.norm(r) < threshold or iter_cnt == 2000:\n",
    "        break\n",
    "\n",
    "print(\"迭代次数：\", iter_cnt)\n",
    "print(\"参数估计值：\", beta)\n"
   ]
  },
  {
   "cell_type": "markdown",
   "metadata": {},
   "source": [
    "### Levenberg-Marquardt\n",
    "\n",
    "对比发现，感觉计算结果好了很多，而且受初值影响更小了，主要是高斯-牛顿法不加正则项的话总是无法求逆"
   ]
  },
  {
   "cell_type": "code",
   "execution_count": 420,
   "metadata": {},
   "outputs": [
    {
     "name": "stdout",
     "output_type": "stream",
     "text": [
      "迭代次数： 13\n",
      "参数估计值： [ 5.11458268 19.96337913  9.72297881]\n"
     ]
    }
   ],
   "source": [
    "lambda_reg = 1e-3\n",
    "lambda_inc = 10  # 当迭代失败时增加 lambda\n",
    "lambda_dec = 0.1  # 当迭代成功时减少 lambda\n",
    "\n",
    "beta_0 = [0, 35, 33]\n",
    "beta = np.array(beta_0, dtype=np.float64)\n",
    "iter_cnt = 0\n",
    "\n",
    "while True:\n",
    "    J = numerical_jacobian(beta, x, y, my_gauss_func)\n",
    "    r = residuals(beta, x, y, my_gauss_func)\n",
    "    \n",
    "    JTJ = J.T @ J + lambda_reg * np.eye(J.shape[1])\n",
    "    JTr = J.T @ r\n",
    "    \n",
    "    try:\n",
    "        delta_beta = np.linalg.solve(JTJ, JTr)\n",
    "        new_beta = beta - delta_beta\n",
    "        \n",
    "        # 计算新残差并判断是否接受\n",
    "        new_r = residuals(new_beta, x, y, my_gauss_func)\n",
    "        if np.linalg.norm(new_r) < np.linalg.norm(r):  # 收敛情况\n",
    "            beta = new_beta\n",
    "            lambda_reg *= lambda_dec  # 减小正则化项\n",
    "        else:  # 不收敛\n",
    "            lambda_reg *= lambda_inc  # 增大正则化项\n",
    "    except np.linalg.LinAlgError:\n",
    "        lambda_reg *= lambda_inc  # 矩阵奇异时增大正则化项\n",
    "        \n",
    "    iter_cnt += 1\n",
    "\n",
    "    if np.linalg.norm(delta_beta) < threshold or np.linalg.norm(r) < threshold or iter_cnt == 2000:\n",
    "        break\n",
    "\n",
    "print(\"迭代次数：\", iter_cnt)\n",
    "print(\"参数估计值：\", beta)"
   ]
  },
  {
   "cell_type": "code",
   "execution_count": 421,
   "metadata": {},
   "outputs": [
    {
     "name": "stdout",
     "output_type": "stream",
     "text": [
      "逆 hessian矩阵 inv_H：  [[ 0.13217189 -0.0245046  -0.21016198]\n",
      " [-0.0245046   0.37197281  0.15557227]\n",
      " [-0.21016198  0.15557227  0.9260799 ]]\n",
      "参数的协方差矩阵： [[ 0.00469128 -0.00086976 -0.00745944]\n",
      " [-0.00086976  0.01320272  0.00552185]\n",
      " [-0.00745944  0.00552185  0.03287008]]\n"
     ]
    }
   ],
   "source": [
    "J = numerical_jacobian(beta, x, y, my_gauss_func)\n",
    "r = residuals(beta, x, y, my_gauss_func)\n",
    "\n",
    "inv_H = np.linalg.inv(J.T @ J)\n",
    "print(\"逆 hessian矩阵 inv_H： \", inv_H)\n",
    "print(\"参数的协方差矩阵：\", inv_H * r.var())"
   ]
  },
  {
   "cell_type": "code",
   "execution_count": 422,
   "metadata": {},
   "outputs": [
    {
     "name": "stdout",
     "output_type": "stream",
     "text": [
      "[ 5.11458268 19.96337913  9.72297881]\n"
     ]
    },
    {
     "data": {
      "image/png": "[encoded data removed]",
      "text/plain": [
       "<Figure size 640x480 with 2 Axes>"
      ]
     },
     "metadata": {},
     "output_type": "display_data"
    }
   ],
   "source": [
    "print(beta)\n",
    "draw(x, y, beta, my_gauss_func)"
   ]
  },
  {
   "cell_type": "markdown",
   "metadata": {},
   "source": [
    "### 对比调包的结果\n",
    "\n",
    "可以发现估计的`参数`以及 `逆hessian矩阵`简直一摸一样"
   ]
  },
  {
   "cell_type": "code",
   "execution_count": 423,
   "metadata": {},
   "outputs": [
    {
     "data": {
      "text/plain": [
       "(array([ 5.1145827 , 19.96337911,  9.72297875]),\n",
       " array([[ 0.13217192, -0.02450456, -0.2101619 ],\n",
       "        [-0.02450456,  0.37197247,  0.15557191],\n",
       "        [-0.2101619 ,  0.15557191,  0.92607896]]),\n",
       " {'fvec': array([ 0.08523868,  0.10983253, -0.15301908, -0.1876889 , -0.17636101,\n",
       "          0.21678282,  0.03043086,  0.09347063,  0.01036929,  0.02897719,\n",
       "          0.12539636, -0.11069256, -0.23522279,  0.06915965, -0.34465606,\n",
       "          0.14072991,  0.02957703,  0.22603086,  0.30101715, -0.08414458,\n",
       "         -0.06434824, -0.12722389, -0.2059877 ,  0.35889321, -0.17027632,\n",
       "          0.09042706, -0.45596506,  0.01053495,  0.16807318,  0.23834744]),\n",
       "  'nfev': 42,\n",
       "  'fjac': array([[ 3.44743486,  0.00646363,  0.00955248,  0.01382189,  0.01958084,\n",
       "           0.02715859,  0.03688036,  0.04903376,  0.06382743,  0.08134514,\n",
       "           0.10150046,  0.12399851,  0.14831227,  0.17367999,  0.19912904,\n",
       "           0.22352779,  0.24566346,  0.26433928,  0.2784806 ,  0.28723695,\n",
       "           0.29006663,  0.2867922 ,  0.2776189 ,  0.26311331,  0.24414549,\n",
       "           0.22180264,  0.19728625,  0.17180629,  0.14648508,  0.12228124],\n",
       "         [-0.10766332, -1.70044923,  0.03686187,  0.05030497,  0.0669693 ,\n",
       "           0.08692855,  0.10995538,  0.13543316,  0.16229213,  0.18898935,\n",
       "           0.21355024,  0.2336833 ,  0.24696913,  0.25111147,  0.24422379,\n",
       "           0.22511293,  0.19351476,  0.15023843,  0.09718585,  0.03723096,\n",
       "          -0.02603373, -0.08865302, -0.14671821, -0.19677094, -0.23614357,\n",
       "          -0.26318952, -0.27737693, -0.27924195, -0.27022083, -0.25239669],\n",
       "         [ 0.80043806,  0.28565829,  1.03914461,  0.11795822,  0.14478952,\n",
       "           0.17187531,  0.19681399,  0.21664908,  0.22812041,  0.22805204,\n",
       "           0.21384569,  0.18401602,  0.13867663,  0.07987283,  0.01166475,\n",
       "          -0.06010376, -0.12836235, -0.18564514, -0.22508035, -0.24137946,\n",
       "          -0.23165151, -0.1958905 , -0.13703955, -0.06061326,  0.02605668,\n",
       "           0.11481873,  0.19776714,  0.2681988 ,  0.32131642,  0.35459185]]),\n",
       "  'ipvt': array([1, 2, 3], dtype=int32),\n",
       "  'qtf': array([-4.56590007e-09,  1.53995506e-06, -2.75537330e-06])},\n",
       " 'Both actual and predicted relative reductions in the sum of squares\\n  are at most 0.000000',\n",
       " 1)"
      ]
     },
     "execution_count": 423,
     "metadata": {},
     "output_type": "execute_result"
    }
   ],
   "source": [
    "from scipy.optimize import leastsq\n",
    "\n",
    "# 定义残差函数\n",
    "def res_func(params, x, y):\n",
    "    return y - my_gauss_func(x, params)\n",
    "\n",
    "# 初始参数猜测\n",
    "initial_guess = [0, 35, 33]\n",
    "\n",
    "# 进行拟合\n",
    "result = leastsq(res_func, initial_guess, args=(x, y), full_output=True)\n",
    "result"
   ]
  }
 ],
 "metadata": {
  "kernelspec": {
   "display_name": "pythonTry",
   "language": "python",
   "name": "python3"
  },
  "language_info": {
   "codemirror_mode": {
    "name": "ipython",
    "version": 3
   },
   "file_extension": ".py",
   "mimetype": "text/x-python",
   "name": "python",
   "nbconvert_exporter": "python",
   "pygments_lexer": "ipython3",
   "version": "3.11.9"
  }
 },
 "nbformat": 4,
 "nbformat_minor": 2
}
