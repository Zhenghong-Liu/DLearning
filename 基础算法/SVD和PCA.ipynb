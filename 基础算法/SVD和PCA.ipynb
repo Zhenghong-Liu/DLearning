{
 "cells": [
  {
   "cell_type": "code",
   "execution_count": 85,
   "metadata": {},
   "outputs": [],
   "source": [
    "import numpy as np\n",
    "\n",
    "X = np.array([[2.5, 2.4],\n",
    "              [0.5, 0.7],\n",
    "              [2.2, 2.9],\n",
    "              [1.9, 2.2],\n",
    "              [3.1, 3.0],\n",
    "              [2.3, 2.7],\n",
    "              [2, 1.6],\n",
    "              [1, 1.1],\n",
    "              [1.5, 1.6],\n",
    "              [1.1, 0.9]])"
   ]
  },
  {
   "cell_type": "markdown",
   "metadata": {},
   "source": [
    "# SVD分解"
   ]
  },
  {
   "cell_type": "markdown",
   "metadata": {},
   "source": [
    "$$ \n",
    "M = U \\Sigma V^T \\\\\n",
    "MM^T = U\\Sigma V^T V \\Sigma^T U^T \\\\\n",
    "MM^T = U \\Sigma \\Sigma^T U^T \\\\\n",
    "MM^TU = U\\Sigma\\Sigma^T\n",
    "$$\n",
    "\n",
    "设 $\\Lambda = \\Sigma\\Sigma^T$, 由此可得，U矩阵是$MM^T$的特征向量，特征值是$\\Lambda$\n",
    "\n",
    "$$ \n",
    "M = U \\Sigma V^T \\\\\n",
    "M^TM = V\\Sigma^TU^T U\\Sigma V^T \\\\\n",
    "M^TM = V\\Sigma^T\\Sigma V^T \\\\\n",
    "M^TMV = V\\Sigma^T\\Sigma\n",
    "$$\n",
    "\n",
    "其中，由于$\\Sigma$是对角矩阵，对称矩阵，因此$\\Sigma^T\\Sigma = \\Sigma\\Sigma^T = \\Lambda$\n",
    "\n",
    "由此可得，V矩阵是$M^TM$的特征向量，特征值是$\\Lambda$"
   ]
  },
  {
   "cell_type": "code",
   "execution_count": 86,
   "metadata": {},
   "outputs": [],
   "source": [
    "def svd(M: np.ndarray):\n",
    "    \"\"\"\n",
    "    手动实现 SVD 分解\n",
    "    - U 是 M @ M^T 的特征向量\n",
    "    - V 是 M^T @ M 的特征向量\n",
    "    - S 是奇异值，按照降序排列\n",
    "    \"\"\"\n",
    "    # 计算 M @ M^T 和 M^T @ M 的特征值和特征向量\n",
    "    MMT = M @ M.T\n",
    "    MTM = M.T @ M\n",
    "\n",
    "    # 计算特征值和特征向量\n",
    "    LAMBDA_U, U = np.linalg.eigh(MMT) #np.linalg.eigh得到的特征值不是SVD需要是降序排列\n",
    "    LAMBDA_V, V = np.linalg.eigh(MTM)\n",
    "\n",
    "    # 对奇异值进行降序排列\n",
    "    sorted_indices = np.argsort(-LAMBDA_U)  # 按降序排列\n",
    "    U = U[:, sorted_indices]\n",
    "\n",
    "    # V 需要按照相同的顺序调整\n",
    "    sorted_indices_V = np.argsort(-LAMBDA_V)\n",
    "    V = V[:, sorted_indices_V]\n",
    "\n",
    "    # 计算奇异值\n",
    "    if len(LAMBDA_V) < len(LAMBDA_U):\n",
    "        S = np.sqrt(LAMBDA_V[sorted_indices_V])\n",
    "    else:\n",
    "        S = np.sqrt(LAMBDA_U[sorted_indices])\n",
    "\n",
    "    # 修正符号：调整 `U` 和 `V` 的列符号，使结果一致\n",
    "    for i in range(len(S)):\n",
    "        if np.sign(U[0, i]) != np.sign(V[0, i]):\n",
    "            V[:, i] *= -1\n",
    "\n",
    "    return U, S, V.T\n"
   ]
  },
  {
   "cell_type": "code",
   "execution_count": 87,
   "metadata": {},
   "outputs": [
    {
     "name": "stdout",
     "output_type": "stream",
     "text": [
      "(10, 10) (2,) (2, 2)\n",
      "U 矩阵：\n",
      "[[-0.38507927  0.25575629]\n",
      " [-0.09481302 -0.17561812]]\n",
      "\n",
      "奇异值：\n",
      "[8.98868529 0.66598554]\n",
      "\n",
      "V 转置矩阵：\n",
      "[[-0.68647784 -0.72715072]\n",
      " [ 0.72715072 -0.68647784]]\n"
     ]
    }
   ],
   "source": [
    "# 计算 SVD\n",
    "U, S, Vt = svd(X)\n",
    "print(U.shape, S.shape, Vt.shape)\n",
    "# 输出结果\n",
    "print(\"U 矩阵：\")\n",
    "print(U[:2, :2])\n",
    "print(\"\\n奇异值：\")\n",
    "print(S)\n",
    "print(\"\\nV 转置矩阵：\")\n",
    "print(Vt)"
   ]
  },
  {
   "cell_type": "code",
   "execution_count": 88,
   "metadata": {},
   "outputs": [
    {
     "data": {
      "text/plain": [
       "array([[2.5, 2.4],\n",
       "       [0.5, 0.7],\n",
       "       [2.2, 2.9],\n",
       "       [1.9, 2.2],\n",
       "       [3.1, 3. ],\n",
       "       [2.3, 2.7],\n",
       "       [2. , 1.6],\n",
       "       [1. , 1.1],\n",
       "       [1.5, 1.6],\n",
       "       [1.1, 0.9]])"
      ]
     },
     "execution_count": 88,
     "metadata": {},
     "output_type": "execute_result"
    }
   ],
   "source": [
    "# 可以复现原来的值\n",
    "U[:,:2] @ np.diag(S) @ Vt"
   ]
  },
  {
   "cell_type": "markdown",
   "metadata": {},
   "source": [
    "### 对比调包的结果\n",
    "\n",
    "对比发现，结果一致"
   ]
  },
  {
   "cell_type": "code",
   "execution_count": 89,
   "metadata": {},
   "outputs": [
    {
     "name": "stdout",
     "output_type": "stream",
     "text": [
      "(10, 10) (2,) (2, 2)\n",
      "U 矩阵：\n",
      "[[-0.38507927  0.25575629]\n",
      " [-0.09481302 -0.17561812]]\n",
      "\n",
      "奇异值：\n",
      "[8.98868529 0.66598554]\n",
      "\n",
      "V 转置矩阵：\n",
      "[[-0.68647784 -0.72715072]\n",
      " [ 0.72715072 -0.68647784]]\n"
     ]
    }
   ],
   "source": [
    "# 计算 SVD\n",
    "U, S, Vt = np.linalg.svd(X)\n",
    "print(U.shape, S.shape, Vt.shape)\n",
    "# 输出结果\n",
    "print(\"U 矩阵：\")\n",
    "print(U[:2, :2])\n",
    "print(\"\\n奇异值：\")\n",
    "print(S)\n",
    "print(\"\\nV 转置矩阵：\")\n",
    "print(Vt)"
   ]
  },
  {
   "cell_type": "markdown",
   "metadata": {},
   "source": [
    "# PCA"
   ]
  },
  {
   "cell_type": "markdown",
   "metadata": {},
   "source": [
    "PCA的过程主要分两步\n",
    "1. 去中心化\n",
    "2. 通过协方差矩阵计算R矩阵\n",
    "\n",
    "关于第二个步骤：\n",
    "\n",
    "说明：$X_i$是一个行向量，确保数据矩阵的每一列是一个特征，每一行是一个样本。\n",
    "\n",
    "$cov(X) = \\frac{1}{n-1} X^TX$\n",
    "\n",
    "R矩阵就是cov(X)的特征向量，解释方差就是cov(X)的特征值\n",
    "\n",
    "由上面已知：V是$X^TX$的特征向量，$\\Lambda$是$X^TX$的特征值。\n",
    "\n",
    "所以，R就是SVD中的V，解释方差就是$\\frac{\\Sigma^T \\Sigma}{n-1}$,其中n是样本数量。"
   ]
  },
  {
   "cell_type": "code",
   "execution_count": 90,
   "metadata": {},
   "outputs": [],
   "source": [
    "def pca(X, n_components):\n",
    "\n",
    "    # 去中心化\n",
    "    X_mean = np.mean(X, axis=0)\n",
    "    X_centered = X - X_mean\n",
    "\n",
    "    # 计算旋转矩阵\n",
    "    U, S, Vt = svd(X_centered)\n",
    "\n",
    "    # 确保符号一致，调整 U 和 Vt 的符号\n",
    "    for i in range(n_components):\n",
    "        if np.sum(U[:, i]) < 0:\n",
    "            U[:, i] = -U[:, i]\n",
    "            Vt[i, :] = -Vt[i, :]\n",
    "\n",
    "    # 旋转矩阵R就是V\n",
    "    R = Vt.T[:, :n_components]\n",
    "\n",
    "    # 计算解释方差\n",
    "    explained_variance = S**2 / (len(X) - 1)\n",
    "\n",
    "    # 数据投影到新空间\n",
    "    X_pca = X_centered @ R\n",
    "\n",
    "    return X_pca, R, explained_variance\n",
    "\n",
    "    "
   ]
  },
  {
   "cell_type": "code",
   "execution_count": 91,
   "metadata": {},
   "outputs": [
    {
     "name": "stdout",
     "output_type": "stream",
     "text": [
      "降维后的数据：\n",
      "[[ 0.82797019 -0.17511531]\n",
      " [-1.77758033  0.14285723]\n",
      " [ 0.99219749  0.38437499]\n",
      " [ 0.27421042  0.13041721]\n",
      " [ 1.67580142 -0.20949846]\n",
      " [ 0.9129491   0.17528244]\n",
      " [-0.09910944 -0.3498247 ]\n",
      " [-1.14457216  0.04641726]\n",
      " [-0.43804614  0.01776463]\n",
      " [-1.22382056 -0.16267529]]\n",
      "\n",
      "主成分方向：\n",
      "[[ 0.6778734  -0.73517866]\n",
      " [ 0.73517866  0.6778734 ]]\n",
      "\n",
      "解释方差：\n",
      "[1.28402771 0.0490834 ]\n"
     ]
    }
   ],
   "source": [
    "# 执行 PCA\n",
    "n_components = 2  # 降维到 2 个主成分\n",
    "X_pca, components, explained_variance = pca(X, n_components)\n",
    "\n",
    "# 输出结果\n",
    "print(\"降维后的数据：\")\n",
    "print(X_pca)\n",
    "print(\"\\n主成分方向：\")\n",
    "print(components)\n",
    "print(\"\\n解释方差：\")\n",
    "print(explained_variance)"
   ]
  },
  {
   "cell_type": "markdown",
   "metadata": {},
   "source": [
    "### 对比调包的结果\n",
    "\n",
    "对比发现，结果一致"
   ]
  },
  {
   "cell_type": "code",
   "execution_count": 92,
   "metadata": {},
   "outputs": [
    {
     "name": "stdout",
     "output_type": "stream",
     "text": [
      "降维后的数据：\n",
      "[[ 0.82797019  0.17511531]\n",
      " [-1.77758033 -0.14285723]\n",
      " [ 0.99219749 -0.38437499]\n",
      " [ 0.27421042 -0.13041721]\n",
      " [ 1.67580142  0.20949846]\n",
      " [ 0.9129491  -0.17528244]\n",
      " [-0.09910944  0.3498247 ]\n",
      " [-1.14457216 -0.04641726]\n",
      " [-0.43804614 -0.01776463]\n",
      " [-1.22382056  0.16267529]]\n",
      "\n",
      "主成分方向：\n",
      "[[ 0.6778734   0.73517866]\n",
      " [ 0.73517866 -0.6778734 ]]\n",
      "\n",
      "解释方差：\n",
      "[1.28402771 0.0490834 ]\n"
     ]
    }
   ],
   "source": [
    "from sklearn.decomposition import PCA\n",
    "\n",
    "# 创建 PCA 模型，指定目标维度\n",
    "n_components = 2\n",
    "pca = PCA(n_components=n_components)\n",
    "\n",
    "# 拟合数据并进行降维\n",
    "X_pca = pca.fit_transform(X)\n",
    "\n",
    "# 输出结果\n",
    "print(\"降维后的数据：\")\n",
    "print(X_pca)\n",
    "print(\"\\n主成分方向：\")\n",
    "print(pca.components_)  # 每一行是一个主成分方向向量\n",
    "print(\"\\n解释方差：\")\n",
    "print(pca.explained_variance_)\n"
   ]
  },
  {
   "cell_type": "code",
   "execution_count": null,
   "metadata": {},
   "outputs": [],
   "source": []
  },
  {
   "cell_type": "code",
   "execution_count": null,
   "metadata": {},
   "outputs": [],
   "source": []
  },
  {
   "cell_type": "code",
   "execution_count": null,
   "metadata": {},
   "outputs": [],
   "source": []
  },
  {
   "cell_type": "code",
   "execution_count": null,
   "metadata": {},
   "outputs": [],
   "source": []
  },
  {
   "cell_type": "code",
   "execution_count": null,
   "metadata": {},
   "outputs": [],
   "source": []
  },
  {
   "cell_type": "code",
   "execution_count": null,
   "metadata": {},
   "outputs": [],
   "source": []
  },
  {
   "cell_type": "code",
   "execution_count": null,
   "metadata": {},
   "outputs": [],
   "source": []
  }
 ],
 "metadata": {
  "kernelspec": {
   "display_name": "pythonTry",
   "language": "python",
   "name": "python3"
  },
  "language_info": {
   "codemirror_mode": {
    "name": "ipython",
    "version": 3
   },
   "file_extension": ".py",
   "mimetype": "text/x-python",
   "name": "python",
   "nbconvert_exporter": "python",
   "pygments_lexer": "ipython3",
   "version": "3.11.9"
  }
 },
 "nbformat": 4,
 "nbformat_minor": 2
}
