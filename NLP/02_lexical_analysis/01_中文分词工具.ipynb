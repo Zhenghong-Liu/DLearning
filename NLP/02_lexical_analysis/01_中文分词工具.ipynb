{
 "cells": [
  {
   "cell_type": "markdown",
   "metadata": {},
   "source": [
    "# 中文分词工具\n",
    "切词工具，比较多，包括jieba，pkuseg，fastHan，HanLP等。\n",
    "\n",
    "都可以用pip安装，如：\n",
    "pip install jieba"
   ]
  },
  {
   "cell_type": "code",
   "execution_count": 1,
   "metadata": {},
   "outputs": [
    {
     "name": "stderr",
     "output_type": "stream",
     "text": [
      "Building prefix dict from the default dictionary ...\n",
      "Loading model from cache /var/folders/jx/hsm21jg10x574b3w9kt9p29w0000gn/T/jieba.cache\n",
      "Loading model cost 0.330 seconds.\n",
      "Prefix dict has been built successfully.\n"
     ]
    },
    {
     "name": "stdout",
     "output_type": "stream",
     "text": [
      "['一个', '傻子', '在', '北京', ',', ' ', '哈尔滨工业大学', '迎来', '100', '年', '华诞', '，', '周华', '主持', '了', '会议', '。', '乐视', '赞助', '了', '会议']\n"
     ]
    }
   ],
   "source": [
    "import jieba\n",
    "\n",
    "text = \"一个傻子在北京, 哈尔滨工业大学迎来100年华诞，周华主持了会议。乐视赞助了会议\"\n",
    "print(jieba.lcut(text))"
   ]
  },
  {
   "cell_type": "code",
   "execution_count": 2,
   "metadata": {},
   "outputs": [
    {
     "name": "stdout",
     "output_type": "stream",
     "text": [
      "[pair('一个', 'm'), pair('傻子', 'n'), pair('在', 'p'), pair('北京', 'ns'), pair(',', 'x'), pair(' ', 'x'), pair('哈尔滨工业大学', 'nt'), pair('迎来', 'v'), pair('100', 'm'), pair('年', 'm'), pair('华诞', 'a'), pair('，', 'x'), pair('周华', 'nr'), pair('主持', 'v'), pair('了', 'ul'), pair('会议', 'n'), pair('。', 'x'), pair('乐视', 'n'), pair('赞助', 'v'), pair('了', 'ul'), pair('会议', 'n')]\n"
     ]
    }
   ],
   "source": [
    "import jieba.posseg #词性标注\n",
    "print(jieba.posseg.lcut(text))"
   ]
  },
  {
   "cell_type": "code",
   "execution_count": 3,
   "metadata": {},
   "outputs": [
    {
     "ename": "ModuleNotFoundError",
     "evalue": "No module named 'pkuseg'",
     "output_type": "error",
     "traceback": [
      "\u001b[0;31m---------------------------------------------------------------------------\u001b[0m",
      "\u001b[0;31mModuleNotFoundError\u001b[0m                       Traceback (most recent call last)",
      "Cell \u001b[0;32mIn[3], line 1\u001b[0m\n\u001b[0;32m----> 1\u001b[0m \u001b[38;5;28;01mimport\u001b[39;00m \u001b[38;5;21;01mpkuseg\u001b[39;00m\n",
      "\u001b[0;31mModuleNotFoundError\u001b[0m: No module named 'pkuseg'"
     ]
    }
   ],
   "source": [
    "import pkuseg\n",
    "\n",
    "seg = pkuseg.pkuseg()  # 以默认配置加载模型\n",
    "text = seg.cut(text)  # 进行分词\n",
    "print(text)\n",
    "\n",
    "seg = pkuseg.pkuseg(postag=True)  # 以默认配置加载模型\n",
    "text = seg.cut(text)  # 进行分词\n",
    "print(text)"
   ]
  },
  {
   "cell_type": "code",
   "execution_count": null,
   "metadata": {},
   "outputs": [],
   "source": [
    "from fastHan import FastHan\n",
    "\n",
    "model = FastHan()\n",
    "sentence = \"郭靖是金庸笔下的一名男主。\"\n",
    "answer = model(sentence, target=\"Parsing\")\n",
    "print(answer)\n",
    "answer = model(sentence, target=\"NER\")\n",
    "print(answer)\n",
    "\n",
    "sentence = \"一个苹果。\"\n",
    "print(model(sentence, 'CWS'))\n",
    "model.set_cws_style('cnc')\n",
    "print(model(sentence, 'CWS'))\n",
    "\n",
    "sentence = [\"我爱踢足球。\", \"林丹是冠军\"]\n",
    "answer = model(sentence, 'Parsing')\n",
    "for i, sentence in enumerate(answer):\n",
    "    print(i)\n",
    "    for token in sentence:\n",
    "        print(token, token.pos, token.head, token.head_label)\n"
   ]
  },
  {
   "cell_type": "code",
   "execution_count": null,
   "metadata": {},
   "outputs": [],
   "source": []
  },
  {
   "cell_type": "code",
   "execution_count": null,
   "metadata": {},
   "outputs": [],
   "source": []
  },
  {
   "cell_type": "code",
   "execution_count": null,
   "metadata": {},
   "outputs": [],
   "source": []
  }
 ],
 "metadata": {
  "kernelspec": {
   "display_name": "pythonTry",
   "language": "python",
   "name": "python3"
  },
  "language_info": {
   "codemirror_mode": {
    "name": "ipython",
    "version": 3
   },
   "file_extension": ".py",
   "mimetype": "text/x-python",
   "name": "python",
   "nbconvert_exporter": "python",
   "pygments_lexer": "ipython3",
   "version": "3.11.9"
  }
 },
 "nbformat": 4,
 "nbformat_minor": 2
}
