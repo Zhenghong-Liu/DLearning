{
 "cells": [
  {
   "cell_type": "markdown",
   "metadata": {},
   "source": [
    "# 语言模型\n",
    "\n",
    "学习目标\n",
    "- 学习语言模型，以及如何训练一个语言模型\n",
    "- 学习torchtext的基本使用方法\n",
    "    - 构建 vocabulary\n",
    "    - word to inde 和 index to word\n",
    "- 学习torch.nn的一些基本模型\n",
    "    - Linear\n",
    "    - RNN\n",
    "    - LSTM\n",
    "    - GRU\n",
    "- RNN的训练技巧\n",
    "    - Gradient Clipping\n",
    "- 如何保存和读取模型"
   ]
  },
  {
   "cell_type": "code",
   "execution_count": 26,
   "metadata": {},
   "outputs": [
    {
     "name": "stdout",
     "output_type": "stream",
     "text": [
      "device : mps\n"
     ]
    }
   ],
   "source": [
    "import torch\n",
    "import torch.nn as nn\n",
    "import torch.optim as optim\n",
    "from torchtext.data.utils import get_tokenizer\n",
    "from torchtext.vocab import build_vocab_from_iterator\n",
    "from torch.utils.data import DataLoader, Dataset\n",
    "import numpy as np\n",
    "\n",
    "device = torch.device(\"mps\" if torch.backends.mps.is_available() else \"cpu\")\n",
    "print(f\"device : {device}\")\n",
    "\n",
    "BATCH_SIZE = 32\n",
    "EMBEDDING_DIM = 650\n",
    "MAX_VOCAB_SIZE = 50_000"
   ]
  },
  {
   "cell_type": "code",
   "execution_count": 27,
   "metadata": {},
   "outputs": [],
   "source": [
    "with open(\"data/nietzsche.txt\", \"r\", encoding=\"utf8\") as f:\n",
    "    text = f.read()\n",
    "\n",
    "#定义tokenizer和vocabulary\n",
    "tokenizer = get_tokenizer(\"basic_english\")\n",
    "tokens = tokenizer(text)\n",
    "vocab = build_vocab_from_iterator([tokens], specials=[\"<unk>\"])\n",
    "vocab.set_default_index(vocab[\"<unk>\"])\n",
    "\n",
    "def word_to_idx(word):\n",
    "    return vocab[word]\n",
    "\n",
    "def idx_to_word(idx):\n",
    "    return vocab.itos[idx]\n",
    "#将数据转化为索引\n",
    "data = [word_to_idx(token) for token in tokens]"
   ]
  },
  {
   "cell_type": "markdown",
   "metadata": {},
   "source": [
    "## 定义DataSet和DataLoader"
   ]
  },
  {
   "cell_type": "code",
   "execution_count": 28,
   "metadata": {},
   "outputs": [],
   "source": [
    "class TextDataset(Dataset):\n",
    "    def __init__(self, data, seq_length) -> None:\n",
    "        super().__init__()\n",
    "        self.data = data\n",
    "        self.seq_length = seq_length\n",
    "\n",
    "    def __len__(self):\n",
    "        return len(self.data) - self.seq_length\n",
    "    \n",
    "    def __getitem__(self, idx):\n",
    "        x = self.data[idx:idx+self.seq_length]\n",
    "        y = self.data[idx+1:idx+self.seq_length+1]\n",
    "        return torch.tensor(x), torch.tensor(y)\n",
    "    \n",
    "seq_length = 30\n",
    "batch_size = 64\n",
    "\n",
    "dataset = TextDataset(data, seq_length)\n",
    "dataloader = DataLoader(dataset, batch_size=batch_size, shuffle=True, drop_last=True)\n"
   ]
  },
  {
   "cell_type": "markdown",
   "metadata": {},
   "source": [
    "## 定义LSTM模型"
   ]
  },
  {
   "cell_type": "code",
   "execution_count": 29,
   "metadata": {},
   "outputs": [
    {
     "name": "stdout",
     "output_type": "stream",
     "text": [
      "vocab_size : 11747\n"
     ]
    }
   ],
   "source": [
    "class LSTMModel(nn.Module):\n",
    "    def __init__(self, vocab_size, embedding_dim, hidden_dim, num_layers) -> None:\n",
    "        super().__init__()\n",
    "        self.embedding = nn.Embedding(vocab_size, embedding_dim)\n",
    "        self.lstm = nn.LSTM(embedding_dim, hidden_dim, num_layers, batch_first=True)\n",
    "        self.fc = nn.Linear(hidden_dim, vocab_size)\n",
    "\n",
    "    def forward(self, x, hidden):\n",
    "        x = self.embedding(x) #输入x:[batch_size, seq_length] -> [batch_size, seq_length, embedding_dim]\n",
    "        x, hidden = self.lstm(x, hidden) #输入x:[batch_size, seq_length, embedding_dim] -> [batch_size, seq_length, hidden_dim]\n",
    "        #hidden的shape为 [num_layers, batch_size, hidden_dim]\n",
    "        x = x.reshape(-1, x.size(2)) # batch_size * seq_length, hidden_dim\n",
    "        x = self.fc(x) # x: [batch_size * seq_length, hidden_dim] => [batch_size * seq_length, vocab_size]\n",
    "        return x, hidden\n",
    "    \n",
    "    def init_hidden(self, batch_size):\n",
    "        weight = next(self.parameters())\n",
    "        return (weight.new_zeros(self.lstm.num_layers, batch_size, self.lstm.hidden_size),\n",
    "                weight.new_zeros(self.lstm.num_layers, batch_size, self.lstm.hidden_size))\n",
    "    \n",
    "vocab_size = len(vocab)\n",
    "print(f\"vocab_size : {vocab_size}\")\n",
    "hidden_dim = 256\n",
    "embedding_dim = 128\n",
    "num_layers = 2\n",
    "\n",
    "model = LSTMModel(vocab_size, embedding_dim, hidden_dim, num_layers).to(device)"
   ]
  },
  {
   "cell_type": "markdown",
   "metadata": {},
   "source": [
    "## 训练模型"
   ]
  },
  {
   "cell_type": "code",
   "execution_count": 31,
   "metadata": {},
   "outputs": [
    {
     "name": "stdout",
     "output_type": "stream",
     "text": [
      "Epoch 1/10, Loss: 4.367384910583496\n",
      "Epoch 2/10, Loss: 3.279768705368042\n",
      "Epoch 3/10, Loss: 2.437866449356079\n",
      "Epoch 4/10, Loss: 2.0008645057678223\n",
      "Epoch 5/10, Loss: 1.626522421836853\n",
      "Epoch 6/10, Loss: 1.4504024982452393\n",
      "Epoch 7/10, Loss: 1.1741880178451538\n",
      "Epoch 8/10, Loss: 1.0635603666305542\n",
      "Epoch 9/10, Loss: 0.8578975200653076\n",
      "Epoch 10/10, Loss: 0.7697316408157349\n"
     ]
    }
   ],
   "source": [
    "criterion = nn.CrossEntropyLoss()\n",
    "optimizer = optim.Adam(model.parameters(), lr=0.001)\n",
    "clip = 5 # 用于梯度裁剪\n",
    "\n",
    "num_epochs = 10\n",
    "\n",
    "for epoch in range(num_epochs):\n",
    "    model.train()\n",
    "    hidden = model.init_hidden(batch_size)\n",
    "\n",
    "    for inputs, targets in dataloader:\n",
    "        hidden = tuple([h.data for h in hidden]) # 将隐藏层的梯度置零， h.data表示产生一个新的tensor，与h共享内存但不会跟踪梯度\n",
    "        inputs, targets = inputs.to(device), targets.to(device)\n",
    "        # print(f\"inputs : {inputs.shape}, targets : {targets.shape}, hidden : {hidden[0].shape}\")\n",
    "        optimizer.zero_grad()\n",
    "        output, hidden = model(inputs, hidden)\n",
    "        loss = criterion(output, targets.view(-1)) #targets.view(-1)将targets展平,大小为batch_size * seq_length\n",
    "        loss.backward()\n",
    "\n",
    "        # 梯度裁剪\n",
    "        torch.nn.utils.clip_grad_norm_(model.parameters(), clip)\n",
    "        optimizer.step()\n",
    "\n",
    "    print(f\"Epoch {epoch+1}/{num_epochs}, Loss: {loss.item()}\")\n",
    "\n",
    "#保存模型\n",
    "torch.save(model.state_dict(), \"lstm_model.pth\")"
   ]
  },
  {
   "cell_type": "markdown",
   "metadata": {},
   "source": [
    "## 读取模型和检验模型"
   ]
  },
  {
   "cell_type": "code",
   "execution_count": 32,
   "metadata": {},
   "outputs": [
    {
     "data": {
      "text/plain": [
       "LSTMModel(\n",
       "  (embedding): Embedding(11747, 128)\n",
       "  (lstm): LSTM(128, 256, num_layers=2, batch_first=True)\n",
       "  (fc): Linear(in_features=256, out_features=11747, bias=True)\n",
       ")"
      ]
     },
     "execution_count": 32,
     "metadata": {},
     "output_type": "execute_result"
    }
   ],
   "source": [
    "# 读取模型\n",
    "model = LSTMModel(vocab_size, embedding_dim, hidden_dim, num_layers)\n",
    "model.load_state_dict(torch.load('lstm_model.pth'))\n",
    "model.eval()"
   ]
  },
  {
   "cell_type": "code",
   "execution_count": 40,
   "metadata": {},
   "outputs": [],
   "source": [
    "def idx_to_word(idx):\n",
    "    return vocab.lookup_token(idx)"
   ]
  },
  {
   "cell_type": "code",
   "execution_count": 57,
   "metadata": {},
   "outputs": [
    {
     "data": {
      "text/plain": [
       "'The meaning of life is unbearable . a powerful , even against the ancient greeks ( or non-spirit ) of the race . a man'"
      ]
     },
     "execution_count": 57,
     "metadata": {},
     "output_type": "execute_result"
    }
   ],
   "source": [
    "#使用训练好的模型生成文本\n",
    "\n",
    "def generate_text(model, start_text, vocab, tokenizer, index_to_word, word_to_index, gen_length=100):\n",
    "    model.eval()\n",
    "    generated_text = start_text\n",
    "    tokens = tokenizer(start_text)\n",
    "    indices = [word_to_index(token) for token in tokens]\n",
    "    input_seq = torch.tensor(indices).unsqueeze(0)\n",
    "    \n",
    "    hidden = model.init_hidden(1) # batch_size = 1\n",
    "    for _ in range(gen_length):\n",
    "        output, hidden = model(input_seq, hidden) # output: [batch_size * seq_length, vocab_size]\n",
    "        output = output[-1] # 取最后一个词\n",
    "        output_dist = nn.functional.softmax(output, dim=-1).data\n",
    "        # top_index = torch.max(output_dist, dim=-1)[1].item() # 取概率最大的词\n",
    "        #使用多形式分布采样的方式可以增加生成文本的多样性，而不是总是取概率最大的词\n",
    "        top_index = torch.multinomial(output_dist, 1).item() # 从output_dist中采样一个词, 采样概率由output_dist决定\n",
    "        \n",
    "        next_word = index_to_word(top_index)\n",
    "        generated_text += \" \" + next_word\n",
    "\n",
    "        input_seq = torch.cat((input_seq[:, 1:], torch.tensor([[top_index]])), dim=-1)\n",
    "\n",
    "    return generated_text\n",
    "\n",
    "start_text = \"The meaning of life is\"\n",
    "generate_text(model, start_text, vocab, tokenizer, idx_to_word, word_to_idx, 20)"
   ]
  },
  {
   "cell_type": "code",
   "execution_count": 58,
   "metadata": {},
   "outputs": [],
   "source": [
    "import os\n",
    "os.remove(\"lstm_model.pth\")"
   ]
  },
  {
   "cell_type": "code",
   "execution_count": null,
   "metadata": {},
   "outputs": [],
   "source": []
  }
 ],
 "metadata": {
  "kernelspec": {
   "display_name": "pythonTry",
   "language": "python",
   "name": "python3"
  },
  "language_info": {
   "codemirror_mode": {
    "name": "ipython",
    "version": 3
   },
   "file_extension": ".py",
   "mimetype": "text/x-python",
   "name": "python",
   "nbconvert_exporter": "python",
   "pygments_lexer": "ipython3",
   "version": "3.11.9"
  }
 },
 "nbformat": 4,
 "nbformat_minor": 2
}
