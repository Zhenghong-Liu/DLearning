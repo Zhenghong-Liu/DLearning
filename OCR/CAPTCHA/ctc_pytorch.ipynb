{
 "cells": [
  {
   "cell_type": "code",
   "execution_count": 1,
   "metadata": {},
   "outputs": [
    {
     "name": "stdout",
     "output_type": "stream",
     "text": [
      "-0123456789ABCDEFGHIJKLMNOPQRSTUVWXYZ 192 64 4 37\n"
     ]
    }
   ],
   "source": [
    "import torch\n",
    "import torch.nn as nn\n",
    "import torch.nn.functional as F\n",
    "from torch.utils.data import Dataset, DataLoader\n",
    "from torchvision.transforms.functional import to_tensor,  to_pil_image\n",
    "\n",
    "from captcha.image import ImageCaptcha\n",
    "from tqdm import tqdm\n",
    "import random\n",
    "import numpy as np\n",
    "from collections import OrderedDict\n",
    "\n",
    "import string\n",
    "\n",
    "characters = '-' + string.digits + string.ascii_uppercase   # 这里‘-’表示空白分割\n",
    "width, height, n_len, n_classes = 192, 64, 4, len(characters)\n",
    "n_input_length = 12\n",
    "print(characters, width, height, n_len, n_classes)"
   ]
  },
  {
   "cell_type": "markdown",
   "metadata": {},
   "source": [
    "## 搭建数据集"
   ]
  },
  {
   "cell_type": "code",
   "execution_count": null,
   "metadata": {},
   "outputs": [],
   "source": [
    "class CaptchaDataset(Dataset):\n",
    "\n",
    "    def __init__(self, characters, length, width, height, input_length, label_length):\n",
    "        super().__init__()\n",
    "        self.characters = characters\n",
    "        self.length = length\n",
    "        self.width = width\n",
    "        self.height = height\n",
    "        self.input_length = input_length\n",
    "        self.label_length = label_length\n",
    "        self.n_class = len(characters)\n",
    "        self.generator = ImageCaptcha(width=width, height=height)\n",
    "\n",
    "    def __len__(self):\n",
    "        return self.length\n",
    "\n",
    "    def __getitem__(self, index):\n",
    "        random_str = ''.join([random.choice(self.characters[1:]) for i in range(self.label_length)])\n",
    "        image = to_tensor(self.generator.generate_image(random_str))\n",
    "        target = torch.tensor([self.characters.find(x) for x in random_str], dtype=torch.long) # 是一个数组，每一个元素都是一个idx\n",
    "        input_length = torch.full(size=(1,), fill_value=self.input_length, dtype=torch.long)\n",
    "        target_length = torch.full(size=(1,), fill_value=self.label_length, dtype=torch.long)\n",
    "        return image, target, input_length, target_length"
   ]
  },
  {
   "cell_type": "markdown",
   "metadata": {},
   "source": [
    "## 测试数据集"
   ]
  },
  {
   "cell_type": "code",
   "execution_count": 3,
   "metadata": {},
   "outputs": [
    {
     "name": "stdout",
     "output_type": "stream",
     "text": [
      "XSAF tensor([12]) tensor([4])\n"
     ]
    },
    {
     "data": {
      "image/jpeg": "[encoded data removed]",
      "image/png": "[encoded data removed]",
      "text/plain": [
       "<PIL.Image.Image image mode=RGB size=192x64>"
      ]
     },
     "execution_count": 3,
     "metadata": {},
     "output_type": "execute_result"
    }
   ],
   "source": [
    "dataset = CaptchaDataset(characters, 1, width, height, n_input_length, n_len)\n",
    "image, target, input_length, label_length = dataset[0]\n",
    "print(''.join([characters[x] for x in target]), input_length, label_length)\n",
    "to_pil_image(image)"
   ]
  },
  {
   "cell_type": "markdown",
   "metadata": {},
   "source": [
    "## 初始化数据集生成器"
   ]
  },
  {
   "cell_type": "code",
   "execution_count": 4,
   "metadata": {},
   "outputs": [],
   "source": [
    "batch_size = 128\n",
    "train_set = CaptchaDataset(characters, 1000 * batch_size, width, height, n_input_length, n_len)\n",
    "valid_set = CaptchaDataset(characters, 100 * batch_size, width, height, n_input_length, n_len)\n",
    "train_loader = DataLoader(train_set, batch_size=batch_size, num_workers=12)\n",
    "valid_loader = DataLoader(valid_set, batch_size=batch_size, num_workers=12)"
   ]
  },
  {
   "cell_type": "markdown",
   "metadata": {},
   "source": [
    "## 初始化模型"
   ]
  },
  {
   "cell_type": "code",
   "execution_count": null,
   "metadata": {},
   "outputs": [],
   "source": [
    "class Model(nn.Module):\n",
    "    \n",
    "    def __init__(self, n_classes, input_shape=(3, 64, 128)):\n",
    "        super().__init__()\n",
    "        self.input_shape = input_shape  # image的shape， [channel, height, width]\n",
    "        channels = [32, 64, 128, 256, 256]\n",
    "        layers = [2, 2, 2, 2, 2]\n",
    "        kernels = [3, 3, 3, 3, 3]\n",
    "        pools = [2, 2, 2, 2, (2, 1)]\n",
    "        modules = OrderedDict()\n",
    "\n",
    "        def cba(name, in_channels, out_channels, kernel_size):\n",
    "            modules[f'conv{name}'] = nn.Conv2d(in_channels, out_channels, kernel_size, padding=(1, 1) if kernel_size==3 else 0)\n",
    "            modules[f'bn{name}'] = nn.BatchNorm2d(out_channels)\n",
    "            modules[f'relu{name}'] = nn.ReLU(inplace=True)\n",
    "\n",
    "        last_channel = 3\n",
    "        for block, (n_channel, n_layer, n_kernel, k_pool) in enumerate(zip(channels, layers, kernels, pools)):\n",
    "            for layer in range(1, n_layer+1):\n",
    "                cba(f'{block+1}{layer}', last_channel, n_channel, n_kernel)\n",
    "                last_channel = n_channel\n",
    "            modules[f'pool{block + 1}'] = nn.MaxPool2d(k_pool)\n",
    "        modules[f'dropout'] = nn.Dropout(0.25, inplace=True)\n",
    "\n",
    "        self.cnn = nn.Sequential(modules)\n",
    "        self.lstm = nn.LSTM(input_size=self.infer_features(), hidden_size=128, num_layers=2, bidirectional=True)\n",
    "        self.fc = nn.Linear(in_features=256, out_features=n_classes)\n",
    "\n",
    "\n",
    "    def infer_features(self): # 跑一次就知道需要适配的大小size是多少了\n",
    "        x = torch.zeros((1, ) + self.input_shape)  # 加上了一个batch的维度，其中维度值为1\n",
    "        x = self.cnn(x)  # x.shape: [1, 256, 2, 12]  分别表示batch， channel， height， width\n",
    "        x = x.reshape(x.shape[0], -1, x.shape[-1])  # 将第二个和第三个维度结合到了一起，变成了3个维度，[1, 512, 12]， 就相当于，把图片竖着分割成了12份。\n",
    "        return x.shape[1]\n",
    "\n",
    "    def forward(self, x):\n",
    "        x = self.cnn(x)\n",
    "        x = x.reshape(x.shape[0], -1, x.shape[-1]) # 将第二个和第三个维度结合到了一起，变成了3个维度，[b, 512, 12]\n",
    "        x = x.permute(2, 0, 1)  # 将维度调转，成为[12, b, 512] 分别表示 序列长度（时间长度）， batch， 每个时间步的特征数。\n",
    "        x, _ = self.lstm(x)  # [12, b, 128 * 2]  分别表示序列长度， batch， 输出的特征维度\n",
    "        x = self.fc(x)\n",
    "        return x"
   ]
  },
  {
   "cell_type": "markdown",
   "metadata": {},
   "source": [
    "## 测试模型输出"
   ]
  },
  {
   "cell_type": "code",
   "execution_count": null,
   "metadata": {},
   "outputs": [
    {
     "data": {
      "text/plain": [
       "torch.Size([12, 32, 37])"
      ]
     },
     "execution_count": 6,
     "metadata": {},
     "output_type": "execute_result"
    }
   ],
   "source": [
    "model = Model(n_classes, input_shape=(3, height, width))\n",
    "inputs = torch.zeros((32, 3, height, width))\n",
    "outputs = model(inputs)\n",
    "outputs.shape   # 对应 [序列长度， batch， label_size]"
   ]
  },
  {
   "cell_type": "markdown",
   "metadata": {},
   "source": [
    "## 初始化模型"
   ]
  },
  {
   "cell_type": "code",
   "execution_count": 7,
   "metadata": {},
   "outputs": [
    {
     "data": {
      "text/plain": [
       "Model(\n",
       "  (cnn): Sequential(\n",
       "    (conv11): Conv2d(3, 32, kernel_size=(3, 3), stride=(1, 1), padding=(1, 1))\n",
       "    (bn11): BatchNorm2d(32, eps=1e-05, momentum=0.1, affine=True, track_running_stats=True)\n",
       "    (relu11): ReLU(inplace=True)\n",
       "    (conv12): Conv2d(32, 32, kernel_size=(3, 3), stride=(1, 1), padding=(1, 1))\n",
       "    (bn12): BatchNorm2d(32, eps=1e-05, momentum=0.1, affine=True, track_running_stats=True)\n",
       "    (relu12): ReLU(inplace=True)\n",
       "    (pool1): MaxPool2d(kernel_size=2, stride=2, padding=0, dilation=1, ceil_mode=False)\n",
       "    (conv21): Conv2d(32, 64, kernel_size=(3, 3), stride=(1, 1), padding=(1, 1))\n",
       "    (bn21): BatchNorm2d(64, eps=1e-05, momentum=0.1, affine=True, track_running_stats=True)\n",
       "    (relu21): ReLU(inplace=True)\n",
       "    (conv22): Conv2d(64, 64, kernel_size=(3, 3), stride=(1, 1), padding=(1, 1))\n",
       "    (bn22): BatchNorm2d(64, eps=1e-05, momentum=0.1, affine=True, track_running_stats=True)\n",
       "    (relu22): ReLU(inplace=True)\n",
       "    (pool2): MaxPool2d(kernel_size=2, stride=2, padding=0, dilation=1, ceil_mode=False)\n",
       "    (conv31): Conv2d(64, 128, kernel_size=(3, 3), stride=(1, 1), padding=(1, 1))\n",
       "    (bn31): BatchNorm2d(128, eps=1e-05, momentum=0.1, affine=True, track_running_stats=True)\n",
       "    (relu31): ReLU(inplace=True)\n",
       "    (conv32): Conv2d(128, 128, kernel_size=(3, 3), stride=(1, 1), padding=(1, 1))\n",
       "    (bn32): BatchNorm2d(128, eps=1e-05, momentum=0.1, affine=True, track_running_stats=True)\n",
       "    (relu32): ReLU(inplace=True)\n",
       "    (pool3): MaxPool2d(kernel_size=2, stride=2, padding=0, dilation=1, ceil_mode=False)\n",
       "    (conv41): Conv2d(128, 256, kernel_size=(3, 3), stride=(1, 1), padding=(1, 1))\n",
       "    (bn41): BatchNorm2d(256, eps=1e-05, momentum=0.1, affine=True, track_running_stats=True)\n",
       "    (relu41): ReLU(inplace=True)\n",
       "    (conv42): Conv2d(256, 256, kernel_size=(3, 3), stride=(1, 1), padding=(1, 1))\n",
       "    (bn42): BatchNorm2d(256, eps=1e-05, momentum=0.1, affine=True, track_running_stats=True)\n",
       "    (relu42): ReLU(inplace=True)\n",
       "    (pool4): MaxPool2d(kernel_size=2, stride=2, padding=0, dilation=1, ceil_mode=False)\n",
       "    (conv51): Conv2d(256, 256, kernel_size=(3, 3), stride=(1, 1), padding=(1, 1))\n",
       "    (bn51): BatchNorm2d(256, eps=1e-05, momentum=0.1, affine=True, track_running_stats=True)\n",
       "    (relu51): ReLU(inplace=True)\n",
       "    (conv52): Conv2d(256, 256, kernel_size=(3, 3), stride=(1, 1), padding=(1, 1))\n",
       "    (bn52): BatchNorm2d(256, eps=1e-05, momentum=0.1, affine=True, track_running_stats=True)\n",
       "    (relu52): ReLU(inplace=True)\n",
       "    (pool5): MaxPool2d(kernel_size=(2, 1), stride=(2, 1), padding=0, dilation=1, ceil_mode=False)\n",
       "    (dropout): Dropout(p=0.25, inplace=True)\n",
       "  )\n",
       "  (lstm): LSTM(512, 128, num_layers=2, bidirectional=True)\n",
       "  (fc): Linear(in_features=256, out_features=37, bias=True)\n",
       ")"
      ]
     },
     "execution_count": 7,
     "metadata": {},
     "output_type": "execute_result"
    }
   ],
   "source": [
    "model = Model(n_classes, input_shape=(3, height, width))\n",
    "model = model.cuda()\n",
    "model"
   ]
  },
  {
   "cell_type": "markdown",
   "metadata": {},
   "source": [
    "## 解码函数和准确率计算函数"
   ]
  },
  {
   "cell_type": "code",
   "execution_count": null,
   "metadata": {},
   "outputs": [],
   "source": [
    "def decode(sequence):\n",
    "    '''\n",
    "    根据ctc的规则，将sequence解码成为单词\n",
    "    就是把重复的单词当做一个，用-作为间隔，最后消除-。\n",
    "    '''\n",
    "    a = ''.join([characters[x] for x in sequence])\n",
    "    s = ''.join(x for j, x in enumerate(a[:-1]) if x != characters[0] and x != a[j+1])\n",
    "    if len(s) == 0:\n",
    "        return ''\n",
    "    if a[-1] != characters[0] and s[-1] != a[-1]:\n",
    "        s += a[-1]\n",
    "    return s\n",
    "\n",
    "def decode_target(sequence):\n",
    "    return ''.join([characters[x] for x in sequence]).replace(' ', '')\n",
    "\n",
    "def calc_acc(target, output):\n",
    "    output_argmax = output.detach().permute(1, 0, 2).argmax(dim=-1)  # [seq_len, batch, label] => [batch, seq_len, label] => [batch, seq_len]\n",
    "    target = target.cpu().numpy()   # [batch, num_words_len]\n",
    "    output_argmax = output_argmax.cpu().numpy()  # [batch, seq_len]\n",
    "    a = np.array([decode(true) == decode(pred) for true, pred in zip(target, output_argmax)])  # 比较解码后的字符串是否一致，一致是True，不一致是False\n",
    "    return a.mean()"
   ]
  },
  {
   "cell_type": "markdown",
   "metadata": {},
   "source": [
    "## 训练模型"
   ]
  },
  {
   "cell_type": "code",
   "execution_count": null,
   "metadata": {},
   "outputs": [],
   "source": [
    "def train(model, optimizer, epoch, dataloader):\n",
    "    model.train()\n",
    "    loss_mean = 0\n",
    "    acc_mean = 0\n",
    "    with tqdm(dataloader) as pbar:\n",
    "        for batch_index, (data, target, input_lengths, target_lengths) in enumerate(pbar):\n",
    "            data, target = data.cuda(), target.cuda()\n",
    "\n",
    "            optimizer.zero_grad()\n",
    "            output = model(data)  # [seq_len, batch, label]\n",
    "\n",
    "            output_log_softmax = F.log_softmax(output, dim=-1)  # ctc_loss文档要求就是需要概率是log的。\n",
    "\n",
    "            # output_log_softmax.shape: [seq_len, batch, label] ctc_loss官方文档要求的也是这个顺序\n",
    "            # target: [batch, num_words_len]\n",
    "            loss = F.ctc_loss(output_log_softmax, target, input_lengths, target_lengths)  # input_lengths 表示rnn的序列长度， target_lengths表示gt的标准字符长度。\n",
    "\n",
    "            loss.backward()\n",
    "            optimizer.step()\n",
    "\n",
    "            loss = loss.item()\n",
    "            acc = calc_acc(target, output)\n",
    "\n",
    "            if batch_index == 0:\n",
    "                loss_mean = loss\n",
    "                acc_mean = acc\n",
    "\n",
    "            loss_mean = 0.1 * loss + 0.9 * loss_mean\n",
    "            acc_mean = 0.1 * acc + 0.9 * acc_mean\n",
    "\n",
    "            pbar.set_description(f'Epoch {epoch} Loss: {loss_mean:.4f} Acc: {acc_mean:.4f}')\n",
    "\n",
    "\n",
    "def valid(model, optimizer, epoch, dataloader):\n",
    "    model.eval()\n",
    "    with tqdm(dataloader) as pbar, torch.no_grad():\n",
    "        loss_sum = 0\n",
    "        acc_sum = 0\n",
    "        for batch_index, (data, target, input_lengths, target_lengths) in enumerate(pbar):\n",
    "            data, target = data.cuda(), target.cuda()\n",
    "\n",
    "            output = model(data)\n",
    "            output_log_softmax = F.log_softmax(output, dim=-1)\n",
    "            loss = F.ctc_loss(output_log_softmax, target, input_lengths, target_lengths)\n",
    "\n",
    "            loss = loss.item()\n",
    "            acc = calc_acc(target, output)\n",
    "\n",
    "            loss_sum += loss\n",
    "            acc_sum += acc\n",
    "\n",
    "            loss_mean = loss_sum / (batch_index + 1)\n",
    "            acc_mean = acc_sum / (batch_index + 1)\n",
    "\n",
    "            pbar.set_description(f'Test : {epoch} Loss: {loss_mean:.4f} Acc: {acc_mean:.4f}')"
   ]
  },
  {
   "cell_type": "code",
   "execution_count": 10,
   "metadata": {},
   "outputs": [
    {
     "name": "stderr",
     "output_type": "stream",
     "text": [
      "Epoch 1 Loss: 1.9848 Acc: 0.0300: 100%|██████████| 1000/1000 [00:52<00:00, 19.23it/s]\n",
      "Test : 1 Loss: 1.9167 Acc: 0.0307: 100%|██████████| 100/100 [00:02<00:00, 41.85it/s]\n",
      "Epoch 2 Loss: 0.0660 Acc: 0.8929: 100%|██████████| 1000/1000 [00:52<00:00, 19.15it/s]\n",
      "Test : 2 Loss: 0.0517 Acc: 0.9073: 100%|██████████| 100/100 [00:02<00:00, 41.70it/s]\n",
      "Epoch 3 Loss: 0.0401 Acc: 0.9048: 100%|██████████| 1000/1000 [00:52<00:00, 19.10it/s]\n",
      "Test : 3 Loss: 0.0462 Acc: 0.8889: 100%|██████████| 100/100 [00:02<00:00, 42.62it/s]\n",
      "Epoch 4 Loss: 0.0287 Acc: 0.9231: 100%|██████████| 1000/1000 [00:51<00:00, 19.37it/s]\n",
      "Test : 4 Loss: 0.0394 Acc: 0.9003: 100%|██████████| 100/100 [00:02<00:00, 42.79it/s]\n",
      "Epoch 5 Loss: 0.0236 Acc: 0.9246: 100%|██████████| 1000/1000 [00:50<00:00, 19.68it/s]\n",
      "Test : 5 Loss: 0.0244 Acc: 0.9146: 100%|██████████| 100/100 [00:02<00:00, 43.02it/s]\n",
      "Epoch 6 Loss: 0.0195 Acc: 0.9229: 100%|██████████| 1000/1000 [00:50<00:00, 19.68it/s]\n",
      "Test : 6 Loss: 0.0196 Acc: 0.9194: 100%|██████████| 100/100 [00:02<00:00, 42.30it/s]\n",
      "Epoch 7 Loss: 0.0203 Acc: 0.9189: 100%|██████████| 1000/1000 [00:50<00:00, 19.71it/s]\n",
      "Test : 7 Loss: 0.0150 Acc: 0.9254: 100%|██████████| 100/100 [00:02<00:00, 42.82it/s]\n",
      "Epoch 8 Loss: 0.0161 Acc: 0.9391: 100%|██████████| 1000/1000 [00:50<00:00, 19.68it/s]\n",
      "Test : 8 Loss: 0.0171 Acc: 0.9245: 100%|██████████| 100/100 [00:02<00:00, 43.25it/s]\n",
      "Epoch 9 Loss: 0.0134 Acc: 0.9225: 100%|██████████| 1000/1000 [00:50<00:00, 19.73it/s]\n",
      "Test : 9 Loss: 0.0150 Acc: 0.9247: 100%|██████████| 100/100 [00:02<00:00, 41.80it/s]\n",
      "Epoch 10 Loss: 0.0170 Acc: 0.9226: 100%|██████████| 1000/1000 [00:51<00:00, 19.60it/s]\n",
      "Test : 10 Loss: 0.0138 Acc: 0.9307: 100%|██████████| 100/100 [00:02<00:00, 42.02it/s]\n",
      "Epoch 11 Loss: 0.0101 Acc: 0.9321: 100%|██████████| 1000/1000 [00:50<00:00, 19.66it/s]\n",
      "Test : 11 Loss: 0.0114 Acc: 0.9327: 100%|██████████| 100/100 [00:02<00:00, 42.27it/s]\n",
      "Epoch 12 Loss: 0.0151 Acc: 0.9198: 100%|██████████| 1000/1000 [00:50<00:00, 19.71it/s]\n",
      "Test : 12 Loss: 0.0158 Acc: 0.9223: 100%|██████████| 100/100 [00:02<00:00, 42.67it/s]\n",
      "Epoch 13 Loss: 0.0115 Acc: 0.9330: 100%|██████████| 1000/1000 [00:50<00:00, 19.72it/s]\n",
      "Test : 13 Loss: 0.0113 Acc: 0.9331: 100%|██████████| 100/100 [00:02<00:00, 42.63it/s]\n",
      "Epoch 14 Loss: 0.0125 Acc: 0.9301: 100%|██████████| 1000/1000 [00:50<00:00, 19.75it/s]\n",
      "Test : 14 Loss: 0.0322 Acc: 0.9072: 100%|██████████| 100/100 [00:02<00:00, 43.41it/s]\n",
      "Epoch 15 Loss: 0.0124 Acc: 0.9349: 100%|██████████| 1000/1000 [00:50<00:00, 19.71it/s]\n",
      "Test : 15 Loss: 0.0113 Acc: 0.9312: 100%|██████████| 100/100 [00:02<00:00, 42.75it/s]\n"
     ]
    }
   ],
   "source": [
    "optimizer = torch.optim.Adam(model.parameters(), 1e-4, amsgrad=True)\n",
    "epochs = 15\n",
    "\n",
    "for epoch in range(1, epochs + 1):\n",
    "    train(model, optimizer, epoch, train_loader)\n",
    "    valid(model, optimizer, epoch, valid_loader)"
   ]
  },
  {
   "cell_type": "markdown",
   "metadata": {},
   "source": [
    "## 测试模型输出"
   ]
  },
  {
   "cell_type": "code",
   "execution_count": 12,
   "metadata": {},
   "outputs": [
    {
     "name": "stdout",
     "output_type": "stream",
     "text": [
      "true Q78H\n",
      "pred Q78H\n",
      "true CZJ5\n",
      "pred CZJ5\n",
      "true M54C\n",
      "pred M54C\n",
      "true 9YCU\n",
      "pred 9YCU\n",
      "true HBGL\n",
      "pred HBGL\n",
      "true R9QS\n",
      "pred R9QS\n",
      "true P6M2\n",
      "pred P6M2\n",
      "true O7EY\n",
      "pred O7EY\n",
      "true U1IQ\n",
      "pred U1IQ\n",
      "true ZP24\n",
      "pred ZP24\n",
      "true G3ZN\n",
      "pred G3ZN\n",
      "true D8MK\n",
      "pred D8MK\n",
      "true TS8W\n",
      "pred TS8W\n",
      "true HX7Y\n",
      "pred HX7Y\n",
      "true JT52\n",
      "pred JT52\n",
      "true JA7W\n",
      "pred JA7W\n",
      "true NAFO\n",
      "pred NAFO\n",
      "true TO4N\n",
      "pred TO4N\n",
      "true NSR0\n",
      "pred NSR0\n",
      "true I6SY\n",
      "pred I6SY\n",
      "true LESV\n",
      "pred LESV\n",
      "true 2O3E\n",
      "pred 2O3E\n",
      "true BT8M\n",
      "pred BT8M\n",
      "true 24DL\n",
      "pred 24DL\n",
      "true 81P9\n",
      "pred 81P9\n",
      "true EIDJ\n",
      "pred EIDJ\n",
      "true 5GFP\n",
      "pred 5GFP\n",
      "true TGTK\n",
      "pred TGTK\n",
      "true XALV\n",
      "pred XALV\n",
      "true MBNC\n",
      "pred MBNC\n",
      "true RYLJ\n",
      "pred RYLJ\n",
      "true 7S5C\n",
      "pred 7S5C\n",
      "true WTGE\n",
      "pred WTGE\n",
      "true 68HK\n",
      "pred 68HK\n",
      "true OLK5\n",
      "pred OLK5\n",
      "true CAHP\n",
      "pred CAHP\n",
      "true 4ZFC\n",
      "pred 4ZFC\n",
      "true SD7Y\n",
      "pred SD7Y\n",
      "true 8M27\n",
      "pred 8M27\n",
      "true 116Z\n",
      "pred 116Z\n",
      "true TOUZ\n",
      "pred TOUZ\n",
      "true 7LDE\n",
      "pred 7LDE\n",
      "true EGS8\n",
      "pred EGS8\n",
      "true L5S1\n",
      "pred L5S1\n",
      "true 81HS\n",
      "pred 81HS\n",
      "true FR0X\n",
      "pred FR0X\n",
      "true WFTP\n",
      "pred WFTP\n",
      "true E3WG\n",
      "pred E3WG\n",
      "true QG6W\n",
      "pred QG6W\n",
      "true HDID\n",
      "pred HDID\n",
      "true IJ3I\n",
      "pred IJ3I\n",
      "true DIR9\n",
      "pred DIR9\n",
      "true T313\n",
      "pred T313\n",
      "true B27A\n",
      "pred B27A\n",
      "true U5IL\n",
      "pred U5IL\n",
      "true QYBJ\n",
      "pred QYBJ\n",
      "true IXRZ\n",
      "pred IXRZ\n",
      "true MV06\n",
      "pred MV06\n",
      "true 966B\n",
      "pred 966B\n",
      "true DR86\n",
      "pred DR86\n",
      "true VAZP\n",
      "pred VAZP\n",
      "true XLA1\n",
      "pred XLA1\n",
      "true O7YX\n",
      "pred O7YX\n",
      "true NJOL\n",
      "pred NJOL\n",
      "true RVZ7\n",
      "pred RVZ7\n",
      "true ZGWI\n",
      "pred ZGWI\n",
      "true VFL1\n",
      "pred VFL1\n",
      "true QH76\n",
      "pred QH76\n",
      "true X6VL\n",
      "pred X6VL\n",
      "true L9OK\n",
      "pred L9OK\n",
      "true DK1D\n",
      "pred DK1D\n",
      "true J7TC\n",
      "pred J7TC\n",
      "true JC91\n",
      "pred JC91\n",
      "true 8KZZ\n",
      "pred 8KZ\n"
     ]
    },
    {
     "data": {
      "image/jpeg": "[encoded data removed]",
      "image/png": "[encoded data removed]",
      "text/plain": [
       "<PIL.Image.Image image mode=RGB size=192x64>"
      ]
     },
     "execution_count": 12,
     "metadata": {},
     "output_type": "execute_result"
    }
   ],
   "source": [
    "model.eval()\n",
    "do = True\n",
    "while do or decode_target(target) == decode(output_argmax[0]):\n",
    "    do = False\n",
    "    image, target, input_length, label_length = dataset[0]\n",
    "    print('true', decode_target(target))\n",
    "\n",
    "    output = model(image.unsqueeze(0).cuda())\n",
    "    output_argmax = output.detach().permute(1, 0, 2).argmax(dim=-1)\n",
    "    print('pred', decode(output_argmax[0]))\n",
    "\n",
    "to_pil_image(image)"
   ]
  },
  {
   "cell_type": "code",
   "execution_count": 13,
   "metadata": {},
   "outputs": [],
   "source": [
    "torch.save(model, 'ctc.pth')"
   ]
  },
  {
   "cell_type": "code",
   "execution_count": null,
   "metadata": {},
   "outputs": [],
   "source": []
  },
  {
   "cell_type": "code",
   "execution_count": null,
   "metadata": {},
   "outputs": [],
   "source": []
  },
  {
   "cell_type": "code",
   "execution_count": null,
   "metadata": {},
   "outputs": [],
   "source": []
  }
 ],
 "metadata": {
  "kernelspec": {
   "display_name": "DL",
   "language": "python",
   "name": "python3"
  },
  "language_info": {
   "codemirror_mode": {
    "name": "ipython",
    "version": 3
   },
   "file_extension": ".py",
   "mimetype": "text/x-python",
   "name": "python",
   "nbconvert_exporter": "python",
   "pygments_lexer": "ipython3",
   "version": "3.11.0"
  }
 },
 "nbformat": 4,
 "nbformat_minor": 2
}
